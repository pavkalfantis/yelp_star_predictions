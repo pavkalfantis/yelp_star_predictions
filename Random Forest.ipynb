{
 "cells": [
  {
   "cell_type": "markdown",
   "metadata": {},
   "source": [
    "# Predicting restaurant ratings from Yelp reviews with NLP\n"
   ]
  },
  {
   "cell_type": "code",
   "execution_count": 1,
   "metadata": {},
   "outputs": [],
   "source": [
    "#Load libraries\n",
    "\n",
    "from sklearn.feature_extraction.text import CountVectorizer,HashingVectorizer,TfidfTransformer\n",
    "from sklearn.model_selection import train_test_split\n",
    "from sklearn.model_selection import ParameterGrid, GridSearchCV\n",
    "from sklearn.pipeline import Pipeline\n",
    "from sklearn.linear_model import RidgeCV, Ridge, SGDRegressor\n",
    "from sklearn.svm import SVR\n",
    "from sklearn.ensemble import RandomForestRegressor\n",
    "from sklearn import metrics\n",
    "from sklearn import base\n",
    "import numpy as np\n",
    "import pandas as pd\n",
    "import matplotlib.pyplot as plt\n",
    "#import dill"
   ]
  },
  {
   "cell_type": "markdown",
   "metadata": {},
   "source": [
    "## Load and parse the data\n"
   ]
  },
  {
   "cell_type": "code",
   "execution_count": 2,
   "metadata": {},
   "outputs": [],
   "source": [
    "#Open the business.csv file with information on businesses found on Yelp\n",
    "\n",
    "business=pd.read_csv('business.csv',low_memory=False)"
   ]
  },
  {
   "cell_type": "code",
   "execution_count": 3,
   "metadata": {},
   "outputs": [
    {
     "data": {
      "text/plain": [
       "(74587, 60)"
      ]
     },
     "execution_count": 3,
     "metadata": {},
     "output_type": "execute_result"
    }
   ],
   "source": [
    "#Keep only restaurants\n",
    "\n",
    "restaurants=business[(business.categories.str.contains('Restaurants'))  | (business.categories.str.contains('Food'))]\n",
    "restaurants.shape"
   ]
  },
  {
   "cell_type": "code",
   "execution_count": 4,
   "metadata": {},
   "outputs": [],
   "source": [
    "#Since we need only text, stars and mapping to business, preprocess the chunks for memory efficiency\n",
    "def review_preprocess(chunk):\n",
    "    chunk=chunk[['stars','text','business_id']]\n",
    "    return chunk"
   ]
  },
  {
   "cell_type": "code",
   "execution_count": 5,
   "metadata": {},
   "outputs": [
    {
     "data": {
      "text/html": [
       "<div>\n",
       "<style scoped>\n",
       "    .dataframe tbody tr th:only-of-type {\n",
       "        vertical-align: middle;\n",
       "    }\n",
       "\n",
       "    .dataframe tbody tr th {\n",
       "        vertical-align: top;\n",
       "    }\n",
       "\n",
       "    .dataframe thead th {\n",
       "        text-align: right;\n",
       "    }\n",
       "</style>\n",
       "<table border=\"1\" class=\"dataframe\">\n",
       "  <thead>\n",
       "    <tr style=\"text-align: right;\">\n",
       "      <th></th>\n",
       "      <th>stars</th>\n",
       "      <th>text</th>\n",
       "      <th>business_id</th>\n",
       "    </tr>\n",
       "  </thead>\n",
       "  <tbody>\n",
       "    <tr>\n",
       "      <th>0</th>\n",
       "      <td>1.0</td>\n",
       "      <td>Total bill for this horrible service? Over $8G...</td>\n",
       "      <td>ujmEBvifdJM6h6RLv4wQIg</td>\n",
       "    </tr>\n",
       "    <tr>\n",
       "      <th>1</th>\n",
       "      <td>5.0</td>\n",
       "      <td>I *adore* Travis at the Hard Rock's new Kelly ...</td>\n",
       "      <td>NZnhc2sEQy3RmzKTZnqtwQ</td>\n",
       "    </tr>\n",
       "    <tr>\n",
       "      <th>2</th>\n",
       "      <td>5.0</td>\n",
       "      <td>I have to say that this office really has it t...</td>\n",
       "      <td>WTqjgwHlXbSFevF32_DJVw</td>\n",
       "    </tr>\n",
       "    <tr>\n",
       "      <th>3</th>\n",
       "      <td>5.0</td>\n",
       "      <td>Went in for a lunch. Steak sandwich was delici...</td>\n",
       "      <td>ikCg8xy5JIg_NGPx-MSIDA</td>\n",
       "    </tr>\n",
       "    <tr>\n",
       "      <th>4</th>\n",
       "      <td>1.0</td>\n",
       "      <td>Today was my second out of three sessions I ha...</td>\n",
       "      <td>b1b1eb3uo-w561D0ZfCEiQ</td>\n",
       "    </tr>\n",
       "    <tr>\n",
       "      <th>...</th>\n",
       "      <td>...</td>\n",
       "      <td>...</td>\n",
       "      <td>...</td>\n",
       "    </tr>\n",
       "    <tr>\n",
       "      <th>6685895</th>\n",
       "      <td>5.0</td>\n",
       "      <td>I have been coming here for years and this pla...</td>\n",
       "      <td>RXBFk3tVBxiTf3uOt9KExQ</td>\n",
       "    </tr>\n",
       "    <tr>\n",
       "      <th>6685896</th>\n",
       "      <td>1.0</td>\n",
       "      <td>I think this owner and the owner of Amy's Baki...</td>\n",
       "      <td>yA6dKNm_zl1ucZCnwW8ZCg</td>\n",
       "    </tr>\n",
       "    <tr>\n",
       "      <th>6685897</th>\n",
       "      <td>5.0</td>\n",
       "      <td>Off the grid Mexican in Vegas. Very tasty, qua...</td>\n",
       "      <td>a192hdM0_UVCYLwPJv1Qwg</td>\n",
       "    </tr>\n",
       "    <tr>\n",
       "      <th>6685898</th>\n",
       "      <td>5.0</td>\n",
       "      <td>We hired Taco Naco to cater our family party a...</td>\n",
       "      <td>kOo4ZY2UQAX4j312mzQ8mA</td>\n",
       "    </tr>\n",
       "    <tr>\n",
       "      <th>6685899</th>\n",
       "      <td>3.0</td>\n",
       "      <td>Having just come back from Hawaii a few months...</td>\n",
       "      <td>PkqN5st3zZ_Xce_5QlBtNQ</td>\n",
       "    </tr>\n",
       "  </tbody>\n",
       "</table>\n",
       "<p>6685900 rows × 3 columns</p>\n",
       "</div>"
      ],
      "text/plain": [
       "         stars                                               text  \\\n",
       "0          1.0  Total bill for this horrible service? Over $8G...   \n",
       "1          5.0  I *adore* Travis at the Hard Rock's new Kelly ...   \n",
       "2          5.0  I have to say that this office really has it t...   \n",
       "3          5.0  Went in for a lunch. Steak sandwich was delici...   \n",
       "4          1.0  Today was my second out of three sessions I ha...   \n",
       "...        ...                                                ...   \n",
       "6685895    5.0  I have been coming here for years and this pla...   \n",
       "6685896    1.0  I think this owner and the owner of Amy's Baki...   \n",
       "6685897    5.0  Off the grid Mexican in Vegas. Very tasty, qua...   \n",
       "6685898    5.0  We hired Taco Naco to cater our family party a...   \n",
       "6685899    3.0  Having just come back from Hawaii a few months...   \n",
       "\n",
       "                    business_id  \n",
       "0        ujmEBvifdJM6h6RLv4wQIg  \n",
       "1        NZnhc2sEQy3RmzKTZnqtwQ  \n",
       "2        WTqjgwHlXbSFevF32_DJVw  \n",
       "3        ikCg8xy5JIg_NGPx-MSIDA  \n",
       "4        b1b1eb3uo-w561D0ZfCEiQ  \n",
       "...                         ...  \n",
       "6685895  RXBFk3tVBxiTf3uOt9KExQ  \n",
       "6685896  yA6dKNm_zl1ucZCnwW8ZCg  \n",
       "6685897  a192hdM0_UVCYLwPJv1Qwg  \n",
       "6685898  kOo4ZY2UQAX4j312mzQ8mA  \n",
       "6685899  PkqN5st3zZ_Xce_5QlBtNQ  \n",
       "\n",
       "[6685900 rows x 3 columns]"
      ]
     },
     "execution_count": 5,
     "metadata": {},
     "output_type": "execute_result"
    }
   ],
   "source": [
    "chunk_list = []  # append each chunk df here \n",
    "\n",
    "# Each chunk is in df format\n",
    "for chunk in pd.read_csv('review.csv', chunksize=250000):  \n",
    "    # perform data filtering \n",
    "    chunk_filter = review_preprocess(chunk)\n",
    "    # Once the data filtering is done, append the chunk to list\n",
    "    chunk_list.append(chunk_filter)\n",
    "    \n",
    "# concat the list into dataframe \n",
    "reviews = pd.concat(chunk_list)\n",
    "reviews"
   ]
  },
  {
   "cell_type": "code",
   "execution_count": 6,
   "metadata": {},
   "outputs": [],
   "source": [
    "rest_reviews = pd.merge(how='left',left=restaurants[['business_id','name']], right=reviews, left_on='business_id', right_on='business_id')\n"
   ]
  },
  {
   "cell_type": "code",
   "execution_count": 8,
   "metadata": {},
   "outputs": [],
   "source": [
    "rest_reviews.dropna(inplace=True)"
   ]
  },
  {
   "cell_type": "code",
   "execution_count": 9,
   "metadata": {},
   "outputs": [
    {
     "data": {
      "text/html": [
       "<div>\n",
       "<style scoped>\n",
       "    .dataframe tbody tr th:only-of-type {\n",
       "        vertical-align: middle;\n",
       "    }\n",
       "\n",
       "    .dataframe tbody tr th {\n",
       "        vertical-align: top;\n",
       "    }\n",
       "\n",
       "    .dataframe thead th {\n",
       "        text-align: right;\n",
       "    }\n",
       "</style>\n",
       "<table border=\"1\" class=\"dataframe\">\n",
       "  <thead>\n",
       "    <tr style=\"text-align: right;\">\n",
       "      <th></th>\n",
       "      <th>business_id</th>\n",
       "      <th>name</th>\n",
       "      <th>stars</th>\n",
       "      <th>text</th>\n",
       "    </tr>\n",
       "  </thead>\n",
       "  <tbody>\n",
       "    <tr>\n",
       "      <th>0</th>\n",
       "      <td>QXAEGFB4oINsVuTFxEYKFQ</td>\n",
       "      <td>Emerald Chinese Restaurant</td>\n",
       "      <td>3.0</td>\n",
       "      <td>My girlfriend and I went for dinner at Emerald...</td>\n",
       "    </tr>\n",
       "    <tr>\n",
       "      <th>1</th>\n",
       "      <td>QXAEGFB4oINsVuTFxEYKFQ</td>\n",
       "      <td>Emerald Chinese Restaurant</td>\n",
       "      <td>3.0</td>\n",
       "      <td>We've always been there on a Sunday so we were...</td>\n",
       "    </tr>\n",
       "    <tr>\n",
       "      <th>2</th>\n",
       "      <td>QXAEGFB4oINsVuTFxEYKFQ</td>\n",
       "      <td>Emerald Chinese Restaurant</td>\n",
       "      <td>3.0</td>\n",
       "      <td>***No automatic doors, not baby friendly!*** I...</td>\n",
       "    </tr>\n",
       "    <tr>\n",
       "      <th>3</th>\n",
       "      <td>QXAEGFB4oINsVuTFxEYKFQ</td>\n",
       "      <td>Emerald Chinese Restaurant</td>\n",
       "      <td>1.0</td>\n",
       "      <td>Horrible service,\\r\\nI went there tonight with...</td>\n",
       "    </tr>\n",
       "    <tr>\n",
       "      <th>4</th>\n",
       "      <td>QXAEGFB4oINsVuTFxEYKFQ</td>\n",
       "      <td>Emerald Chinese Restaurant</td>\n",
       "      <td>4.0</td>\n",
       "      <td>One of the gauges of a good Chinese restaurant...</td>\n",
       "    </tr>\n",
       "    <tr>\n",
       "      <th>...</th>\n",
       "      <td>...</td>\n",
       "      <td>...</td>\n",
       "      <td>...</td>\n",
       "      <td>...</td>\n",
       "    </tr>\n",
       "    <tr>\n",
       "      <th>4580296</th>\n",
       "      <td>p1eUTUB_5hf1enoKYBV3DA</td>\n",
       "      <td>Ken Stewart's Tre Belle</td>\n",
       "      <td>5.0</td>\n",
       "      <td>When I write a review on someplace that I have...</td>\n",
       "    </tr>\n",
       "    <tr>\n",
       "      <th>4580297</th>\n",
       "      <td>p1eUTUB_5hf1enoKYBV3DA</td>\n",
       "      <td>Ken Stewart's Tre Belle</td>\n",
       "      <td>5.0</td>\n",
       "      <td>We stopped in at Tre Belle on a Tuesday evenin...</td>\n",
       "    </tr>\n",
       "    <tr>\n",
       "      <th>4580298</th>\n",
       "      <td>p1eUTUB_5hf1enoKYBV3DA</td>\n",
       "      <td>Ken Stewart's Tre Belle</td>\n",
       "      <td>3.0</td>\n",
       "      <td>I wasnt impressed. The place is beautiful and ...</td>\n",
       "    </tr>\n",
       "    <tr>\n",
       "      <th>4580299</th>\n",
       "      <td>p1eUTUB_5hf1enoKYBV3DA</td>\n",
       "      <td>Ken Stewart's Tre Belle</td>\n",
       "      <td>1.0</td>\n",
       "      <td>Last night some friends and I dined at this es...</td>\n",
       "    </tr>\n",
       "    <tr>\n",
       "      <th>4580300</th>\n",
       "      <td>p1eUTUB_5hf1enoKYBV3DA</td>\n",
       "      <td>Ken Stewart's Tre Belle</td>\n",
       "      <td>2.0</td>\n",
       "      <td>First let me list the positives.  The restaura...</td>\n",
       "    </tr>\n",
       "  </tbody>\n",
       "</table>\n",
       "<p>4580299 rows × 4 columns</p>\n",
       "</div>"
      ],
      "text/plain": [
       "                    business_id                        name  stars  \\\n",
       "0        QXAEGFB4oINsVuTFxEYKFQ  Emerald Chinese Restaurant    3.0   \n",
       "1        QXAEGFB4oINsVuTFxEYKFQ  Emerald Chinese Restaurant    3.0   \n",
       "2        QXAEGFB4oINsVuTFxEYKFQ  Emerald Chinese Restaurant    3.0   \n",
       "3        QXAEGFB4oINsVuTFxEYKFQ  Emerald Chinese Restaurant    1.0   \n",
       "4        QXAEGFB4oINsVuTFxEYKFQ  Emerald Chinese Restaurant    4.0   \n",
       "...                         ...                         ...    ...   \n",
       "4580296  p1eUTUB_5hf1enoKYBV3DA     Ken Stewart's Tre Belle    5.0   \n",
       "4580297  p1eUTUB_5hf1enoKYBV3DA     Ken Stewart's Tre Belle    5.0   \n",
       "4580298  p1eUTUB_5hf1enoKYBV3DA     Ken Stewart's Tre Belle    3.0   \n",
       "4580299  p1eUTUB_5hf1enoKYBV3DA     Ken Stewart's Tre Belle    1.0   \n",
       "4580300  p1eUTUB_5hf1enoKYBV3DA     Ken Stewart's Tre Belle    2.0   \n",
       "\n",
       "                                                      text  \n",
       "0        My girlfriend and I went for dinner at Emerald...  \n",
       "1        We've always been there on a Sunday so we were...  \n",
       "2        ***No automatic doors, not baby friendly!*** I...  \n",
       "3        Horrible service,\\r\\nI went there tonight with...  \n",
       "4        One of the gauges of a good Chinese restaurant...  \n",
       "...                                                    ...  \n",
       "4580296  When I write a review on someplace that I have...  \n",
       "4580297  We stopped in at Tre Belle on a Tuesday evenin...  \n",
       "4580298  I wasnt impressed. The place is beautiful and ...  \n",
       "4580299  Last night some friends and I dined at this es...  \n",
       "4580300  First let me list the positives.  The restaura...  \n",
       "\n",
       "[4580299 rows x 4 columns]"
      ]
     },
     "execution_count": 9,
     "metadata": {},
     "output_type": "execute_result"
    }
   ],
   "source": [
    "rest_reviews"
   ]
  },
  {
   "cell_type": "markdown",
   "metadata": {},
   "source": [
    "The dataset has more than 4.5 million reviews on restaurants with their corresponding rating. We will use this dataset to build the model of the analysis"
   ]
  },
  {
   "cell_type": "code",
   "execution_count": 10,
   "metadata": {},
   "outputs": [
    {
     "data": {
      "text/plain": [
       "(array([ 544139.,       0.,  420637.,       0.,       0.,  604359.,\n",
       "              0., 1191087.,       0., 1820077.]),\n",
       " array([1. , 1.4, 1.8, 2.2, 2.6, 3. , 3.4, 3.8, 4.2, 4.6, 5. ]),\n",
       " <BarContainer object of 10 artists>)"
      ]
     },
     "execution_count": 10,
     "metadata": {},
     "output_type": "execute_result"
    },
    {
     "data": {
      "image/png": "[encoded data removed]",
      "text/plain": [
       "<Figure size 432x288 with 1 Axes>"
      ]
     },
     "metadata": {
      "needs_background": "light"
     },
     "output_type": "display_data"
    }
   ],
   "source": [
    "plt.hist(rest_reviews.stars)"
   ]
  },
  {
   "cell_type": "code",
   "execution_count": 11,
   "metadata": {},
   "outputs": [
    {
     "data": {
      "text/html": [
       "<div>\n",
       "<style scoped>\n",
       "    .dataframe tbody tr th:only-of-type {\n",
       "        vertical-align: middle;\n",
       "    }\n",
       "\n",
       "    .dataframe tbody tr th {\n",
       "        vertical-align: top;\n",
       "    }\n",
       "\n",
       "    .dataframe thead th {\n",
       "        text-align: right;\n",
       "    }\n",
       "</style>\n",
       "<table border=\"1\" class=\"dataframe\">\n",
       "  <thead>\n",
       "    <tr style=\"text-align: right;\">\n",
       "      <th></th>\n",
       "      <th>business_id</th>\n",
       "      <th>name</th>\n",
       "      <th>text</th>\n",
       "    </tr>\n",
       "    <tr>\n",
       "      <th>stars</th>\n",
       "      <th></th>\n",
       "      <th></th>\n",
       "      <th></th>\n",
       "    </tr>\n",
       "  </thead>\n",
       "  <tbody>\n",
       "    <tr>\n",
       "      <th>1.0</th>\n",
       "      <td>544139</td>\n",
       "      <td>544139</td>\n",
       "      <td>544139</td>\n",
       "    </tr>\n",
       "    <tr>\n",
       "      <th>2.0</th>\n",
       "      <td>420637</td>\n",
       "      <td>420637</td>\n",
       "      <td>420637</td>\n",
       "    </tr>\n",
       "    <tr>\n",
       "      <th>3.0</th>\n",
       "      <td>604359</td>\n",
       "      <td>604359</td>\n",
       "      <td>604359</td>\n",
       "    </tr>\n",
       "    <tr>\n",
       "      <th>4.0</th>\n",
       "      <td>1191087</td>\n",
       "      <td>1191087</td>\n",
       "      <td>1191087</td>\n",
       "    </tr>\n",
       "    <tr>\n",
       "      <th>5.0</th>\n",
       "      <td>1820077</td>\n",
       "      <td>1820077</td>\n",
       "      <td>1820077</td>\n",
       "    </tr>\n",
       "  </tbody>\n",
       "</table>\n",
       "</div>"
      ],
      "text/plain": [
       "       business_id     name     text\n",
       "stars                               \n",
       "1.0         544139   544139   544139\n",
       "2.0         420637   420637   420637\n",
       "3.0         604359   604359   604359\n",
       "4.0        1191087  1191087  1191087\n",
       "5.0        1820077  1820077  1820077"
      ]
     },
     "execution_count": 11,
     "metadata": {},
     "output_type": "execute_result"
    }
   ],
   "source": [
    "rest_reviews.groupby(['stars']).count()"
   ]
  },
  {
   "cell_type": "code",
   "execution_count": 12,
   "metadata": {},
   "outputs": [],
   "source": [
    "#Keep a smaller and balanced dataset\n",
    "\n",
    "# 50000 reviews for each star\n",
    "\n",
    "chunk_list = []\n",
    "\n",
    "for i in range(5):\n",
    "    chunk_list.append(rest_reviews[rest_reviews.stars==i+1].sample(50000))\n",
    "    \n",
    "small_dataset = pd.concat(chunk_list)\n",
    "\n"
   ]
  },
  {
   "cell_type": "code",
   "execution_count": 13,
   "metadata": {},
   "outputs": [
    {
     "data": {
      "text/html": [
       "<div>\n",
       "<style scoped>\n",
       "    .dataframe tbody tr th:only-of-type {\n",
       "        vertical-align: middle;\n",
       "    }\n",
       "\n",
       "    .dataframe tbody tr th {\n",
       "        vertical-align: top;\n",
       "    }\n",
       "\n",
       "    .dataframe thead th {\n",
       "        text-align: right;\n",
       "    }\n",
       "</style>\n",
       "<table border=\"1\" class=\"dataframe\">\n",
       "  <thead>\n",
       "    <tr style=\"text-align: right;\">\n",
       "      <th></th>\n",
       "      <th>business_id</th>\n",
       "      <th>name</th>\n",
       "      <th>stars</th>\n",
       "      <th>text</th>\n",
       "    </tr>\n",
       "  </thead>\n",
       "  <tbody>\n",
       "    <tr>\n",
       "      <th>621773</th>\n",
       "      <td>FMo1PJTUV5OpyiZlnTM1Rg</td>\n",
       "      <td>Sharky's Woodfired Mexican Grill</td>\n",
       "      <td>1.0</td>\n",
       "      <td>5 Stars on Yelp??? Something is wrong!!!! \\r\\n...</td>\n",
       "    </tr>\n",
       "    <tr>\n",
       "      <th>1455755</th>\n",
       "      <td>PaKG_CtfPbjWQUcdro81rw</td>\n",
       "      <td>Drai's After Hours</td>\n",
       "      <td>1.0</td>\n",
       "      <td>ALRIGHT! The only reason it gets one star THIS...</td>\n",
       "    </tr>\n",
       "    <tr>\n",
       "      <th>566198</th>\n",
       "      <td>ZV89e6dYFymcBAUmRzKGwA</td>\n",
       "      <td>Tanaka Grill &amp; Sushi</td>\n",
       "      <td>1.0</td>\n",
       "      <td>I expected to go to Tanaka's with my friend to...</td>\n",
       "    </tr>\n",
       "    <tr>\n",
       "      <th>950779</th>\n",
       "      <td>PglC8rgguMIlT621p1BLdQ</td>\n",
       "      <td>Yum Cha</td>\n",
       "      <td>1.0</td>\n",
       "      <td>The food if it ever arrives is good. Maybe bec...</td>\n",
       "    </tr>\n",
       "    <tr>\n",
       "      <th>2230038</th>\n",
       "      <td>n44grut83X0UiRZCA-O1fw</td>\n",
       "      <td>Patisserie La Cigogne</td>\n",
       "      <td>1.0</td>\n",
       "      <td>The food was OK. The service was AWFUL.\\r\\n\\r\\...</td>\n",
       "    </tr>\n",
       "    <tr>\n",
       "      <th>...</th>\n",
       "      <td>...</td>\n",
       "      <td>...</td>\n",
       "      <td>...</td>\n",
       "      <td>...</td>\n",
       "    </tr>\n",
       "    <tr>\n",
       "      <th>3681107</th>\n",
       "      <td>ZumOnWbstgsIE6bJlxw0_Q</td>\n",
       "      <td>Jacobs &amp; Co. Steakhouse</td>\n",
       "      <td>5.0</td>\n",
       "      <td>Honestly one of the best experiences at a stea...</td>\n",
       "    </tr>\n",
       "    <tr>\n",
       "      <th>323980</th>\n",
       "      <td>SyXRHl0ewl-Yu2mkf1EZfw</td>\n",
       "      <td>Bakes &amp; Goods</td>\n",
       "      <td>5.0</td>\n",
       "      <td>I had a nice experience. Walked in, couldn't d...</td>\n",
       "    </tr>\n",
       "    <tr>\n",
       "      <th>2686937</th>\n",
       "      <td>wl0QZqAzr1DelslQ02JGCQ</td>\n",
       "      <td>Cornish Pasty</td>\n",
       "      <td>5.0</td>\n",
       "      <td>Was looking for a unique place to have my last...</td>\n",
       "    </tr>\n",
       "    <tr>\n",
       "      <th>2152534</th>\n",
       "      <td>DcdjPu2wFoMp-G3K7PnYqQ</td>\n",
       "      <td>Anna's Pizzeria</td>\n",
       "      <td>5.0</td>\n",
       "      <td>There is a reason why Anna's pizza has won so ...</td>\n",
       "    </tr>\n",
       "    <tr>\n",
       "      <th>4438736</th>\n",
       "      <td>kUQwaqwxKlScAQNhRx2_2w</td>\n",
       "      <td>Boston Pizza</td>\n",
       "      <td>5.0</td>\n",
       "      <td>Came here on the recommendation of someone I k...</td>\n",
       "    </tr>\n",
       "  </tbody>\n",
       "</table>\n",
       "<p>250000 rows × 4 columns</p>\n",
       "</div>"
      ],
      "text/plain": [
       "                    business_id                              name  stars  \\\n",
       "621773   FMo1PJTUV5OpyiZlnTM1Rg  Sharky's Woodfired Mexican Grill    1.0   \n",
       "1455755  PaKG_CtfPbjWQUcdro81rw                Drai's After Hours    1.0   \n",
       "566198   ZV89e6dYFymcBAUmRzKGwA              Tanaka Grill & Sushi    1.0   \n",
       "950779   PglC8rgguMIlT621p1BLdQ                           Yum Cha    1.0   \n",
       "2230038  n44grut83X0UiRZCA-O1fw             Patisserie La Cigogne    1.0   \n",
       "...                         ...                               ...    ...   \n",
       "3681107  ZumOnWbstgsIE6bJlxw0_Q           Jacobs & Co. Steakhouse    5.0   \n",
       "323980   SyXRHl0ewl-Yu2mkf1EZfw                     Bakes & Goods    5.0   \n",
       "2686937  wl0QZqAzr1DelslQ02JGCQ                     Cornish Pasty    5.0   \n",
       "2152534  DcdjPu2wFoMp-G3K7PnYqQ                   Anna's Pizzeria    5.0   \n",
       "4438736  kUQwaqwxKlScAQNhRx2_2w                      Boston Pizza    5.0   \n",
       "\n",
       "                                                      text  \n",
       "621773   5 Stars on Yelp??? Something is wrong!!!! \\r\\n...  \n",
       "1455755  ALRIGHT! The only reason it gets one star THIS...  \n",
       "566198   I expected to go to Tanaka's with my friend to...  \n",
       "950779   The food if it ever arrives is good. Maybe bec...  \n",
       "2230038  The food was OK. The service was AWFUL.\\r\\n\\r\\...  \n",
       "...                                                    ...  \n",
       "3681107  Honestly one of the best experiences at a stea...  \n",
       "323980   I had a nice experience. Walked in, couldn't d...  \n",
       "2686937  Was looking for a unique place to have my last...  \n",
       "2152534  There is a reason why Anna's pizza has won so ...  \n",
       "4438736  Came here on the recommendation of someone I k...  \n",
       "\n",
       "[250000 rows x 4 columns]"
      ]
     },
     "execution_count": 13,
     "metadata": {},
     "output_type": "execute_result"
    }
   ],
   "source": [
    "small_dataset"
   ]
  },
  {
   "cell_type": "code",
   "execution_count": 20,
   "metadata": {},
   "outputs": [],
   "source": [
    "#Do not use \n",
    "\n",
    "stars = rest_reviews.stars\n",
    "text = rest_reviews.text\n"
   ]
  },
  {
   "cell_type": "code",
   "execution_count": 14,
   "metadata": {},
   "outputs": [],
   "source": [
    "#Use subset\n",
    "\n",
    "stars = small_dataset.stars\n",
    "text = small_dataset.text"
   ]
  },
  {
   "cell_type": "code",
   "execution_count": 15,
   "metadata": {},
   "outputs": [],
   "source": [
    "text_train, text_test, stars_train, stars_test = train_test_split(text, stars, test_size=0.2)"
   ]
  },
  {
   "cell_type": "code",
   "execution_count": 16,
   "metadata": {},
   "outputs": [
    {
     "data": {
      "text/plain": [
       "(array([39961.,     0., 40071.,     0.,     0., 39979.,     0., 40035.,\n",
       "            0., 39954.]),\n",
       " array([1. , 1.4, 1.8, 2.2, 2.6, 3. , 3.4, 3.8, 4.2, 4.6, 5. ]),\n",
       " <BarContainer object of 10 artists>)"
      ]
     },
     "execution_count": 16,
     "metadata": {},
     "output_type": "execute_result"
    },
    {
     "data": {
      "image/png": "[encoded data removed]",
      "text/plain": [
       "<Figure size 432x288 with 1 Axes>"
      ]
     },
     "metadata": {
      "needs_background": "light"
     },
     "output_type": "display_data"
    }
   ],
   "source": [
    "plt.hist(stars_train)"
   ]
  },
  {
   "cell_type": "code",
   "execution_count": 17,
   "metadata": {},
   "outputs": [
    {
     "data": {
      "text/plain": [
       "(array([10039.,     0.,  9929.,     0.,     0., 10021.,     0.,  9965.,\n",
       "            0., 10046.]),\n",
       " array([1. , 1.4, 1.8, 2.2, 2.6, 3. , 3.4, 3.8, 4.2, 4.6, 5. ]),\n",
       " <BarContainer object of 10 artists>)"
      ]
     },
     "execution_count": 17,
     "metadata": {},
     "output_type": "execute_result"
    },
    {
     "data": {
      "image/png": "[encoded data removed]",
      "text/plain": [
       "<Figure size 432x288 with 1 Axes>"
      ]
     },
     "metadata": {
      "needs_background": "light"
     },
     "output_type": "display_data"
    }
   ],
   "source": [
    "plt.hist(stars_test)"
   ]
  },
  {
   "cell_type": "markdown",
   "metadata": {},
   "source": [
    "## RANDOM FOREST REGRESSOR -- RFR"
   ]
  },
  {
   "cell_type": "code",
   "execution_count": 37,
   "metadata": {},
   "outputs": [
    {
     "data": {
      "text/plain": [
       "GridSearchCV(cv=5, estimator=RandomForestRegressor(),\n",
       "             param_grid={'max_depth': [4, 8], 'n_estimators': [10, 50]})"
      ]
     },
     "execution_count": 37,
     "metadata": {},
     "output_type": "execute_result"
    }
   ],
   "source": [
    "# RFR\n",
    "X = CountVectorizer(min_df=7,max_df=0.3).fit_transform(text)\n",
    "rfr=RandomForestRegressor()\n",
    "\n",
    "param_grid = { \n",
    "    'n_estimators': [10, 50],\n",
    "    'max_depth' : [4,8],\n",
    "}\n",
    "\n",
    "CV_rfr = GridSearchCV(estimator=rfr, param_grid=param_grid, cv= 5)\n",
    "CV_rfr.fit(X, stars)\n"
   ]
  },
  {
   "cell_type": "code",
   "execution_count": 38,
   "metadata": {},
   "outputs": [
    {
     "data": {
      "text/plain": [
       "{'max_depth': 4, 'n_estimators': 10}"
      ]
     },
     "execution_count": 38,
     "metadata": {},
     "output_type": "execute_result"
    }
   ],
   "source": [
    "\n",
    "CV_rfr.best_params_\n"
   ]
  },
  {
   "cell_type": "code",
   "execution_count": 40,
   "metadata": {},
   "outputs": [],
   "source": [
    "# input the best parameters\n",
    "#rfr_best=RandomForestRegressor(n_estimators=10,max_depth=4)\n",
    "\n",
    "\n",
    "rfr_best = Pipeline([\n",
    "    ('Vec',CountVectorizer(min_df=7,max_df=0.3)),\n",
    "    ('RFR',RandomForestRegressor(n_estimators=10,max_depth=4))\n",
    "\n",
    "])\n"
   ]
  },
  {
   "cell_type": "code",
   "execution_count": 41,
   "metadata": {},
   "outputs": [
    {
     "data": {
      "text/plain": [
       "Pipeline(steps=[('Vec', CountVectorizer(max_df=0.3, min_df=7)),\n",
       "                ('RFR', RandomForestRegressor(max_depth=4, n_estimators=10))])"
      ]
     },
     "execution_count": 41,
     "metadata": {},
     "output_type": "execute_result"
    }
   ],
   "source": [
    "\n",
    "rfr_best.fit(text_train,stars_train)"
   ]
  },
  {
   "cell_type": "code",
   "execution_count": 42,
   "metadata": {},
   "outputs": [],
   "source": [
    "pred=rfr_best.predict(text_test)"
   ]
  },
  {
   "cell_type": "code",
   "execution_count": 45,
   "metadata": {},
   "outputs": [
    {
     "name": "stdout",
     "output_type": "stream",
     "text": [
      "MSE for RFR unigram = 1.5828348740179616\n",
      "R2 for RFR unigram = 0.21042976256150658\n"
     ]
    }
   ],
   "source": [
    "print('MSE for RFR unigram =',metrics.mean_squared_error(stars_test,pred))\n",
    "print('R2 for RFR unigram =',metrics.r2_score(stars_test,pred))"
   ]
  },
  {
   "cell_type": "markdown",
   "metadata": {
    "heading_collapsed": true
   },
   "source": [
    "### normalized_unigram with TF-IDF -- RFR"
   ]
  },
  {
   "cell_type": "code",
   "execution_count": 47,
   "metadata": {},
   "outputs": [
    {
     "data": {
      "text/plain": [
       "GridSearchCV(cv=5, estimator=RandomForestRegressor(),\n",
       "             param_grid={'max_depth': [4, 8], 'n_estimators': [10, 50]})"
      ]
     },
     "execution_count": 47,
     "metadata": {},
     "output_type": "execute_result"
    }
   ],
   "source": [
    "# RFR\n",
    "V = CountVectorizer(min_df=7,max_df=0.3).fit_transform(text)\n",
    "X = TfidfTransformer().fit_transform(V)\n",
    "rfr=RandomForestRegressor()\n",
    "\n",
    "param_grid_norm = { \n",
    "    'n_estimators': [10, 50],\n",
    "    'max_depth' : [4,8],\n",
    "}\n",
    "\n",
    "CV_rfr_norm = GridSearchCV(estimator=rfr, param_grid=param_grid_norm, cv= 5)\n",
    "CV_rfr_norm.fit(X, stars)\n"
   ]
  },
  {
   "cell_type": "code",
   "execution_count": 48,
   "metadata": {},
   "outputs": [
    {
     "data": {
      "text/plain": [
       "{'max_depth': 4, 'n_estimators': 10}"
      ]
     },
     "execution_count": 48,
     "metadata": {},
     "output_type": "execute_result"
    }
   ],
   "source": [
    "\n",
    "CV_rfr_norm.best_params_\n"
   ]
  },
  {
   "cell_type": "code",
   "execution_count": 111,
   "metadata": {},
   "outputs": [],
   "source": [
    "# input the best parameters\n",
    "#run again\n",
    "\n",
    "\n",
    "rfr_best_norm = Pipeline([\n",
    "    ('Vec',CountVectorizer(min_df=7,max_df=0.3)),\n",
    "    ('tfidf',TfidfTransformer()),\n",
    "    ('RFR',RandomForestRegressor(n_estimators=10,max_depth=20))\n",
    "\n",
    "])\n"
   ]
  },
  {
   "cell_type": "code",
   "execution_count": 112,
   "metadata": {},
   "outputs": [
    {
     "data": {
      "text/plain": [
       "Pipeline(steps=[('Vec', CountVectorizer(max_df=0.3, min_df=7)),\n",
       "                ('tfidf', TfidfTransformer()),\n",
       "                ('RFR', RandomForestRegressor(max_depth=20, n_estimators=10))])"
      ]
     },
     "execution_count": 112,
     "metadata": {},
     "output_type": "execute_result"
    }
   ],
   "source": [
    "\n",
    "rfr_best_norm.fit(text_train,stars_train)"
   ]
  },
  {
   "cell_type": "code",
   "execution_count": 113,
   "metadata": {},
   "outputs": [
    {
     "name": "stdout",
     "output_type": "stream",
     "text": [
      "MSE for RFR normalized unigram = 1.0507326049808303\n",
      "R2 for RFR normalized unigram = 0.47585992321921344\n"
     ]
    }
   ],
   "source": [
    "pred_norm=rfr_best_norm.predict(text_test)\n",
    "print('MSE for RFR normalized unigram =',metrics.mean_squared_error(stars_test,pred_norm))\n",
    "print('R2 for RFR normalized unigram =',metrics.r2_score(stars_test,pred_norm))"
   ]
  },
  {
   "cell_type": "markdown",
   "metadata": {
    "heading_collapsed": true
   },
   "source": [
    "### bigram_model -- RFR"
   ]
  },
  {
   "cell_type": "markdown",
   "metadata": {
    "hidden": true
   },
   "source": [
    "In a bigram model, we'll consider both single words and pairs of consecutive words that appear.  This is going to be a much higher dimensional problem (large $p$) so we should be careful about overfitting. To avoid memory issues we are using the HashingVectorizer instead of the CountVectorizer\n"
   ]
  },
  {
   "cell_type": "code",
   "execution_count": 61,
   "metadata": {},
   "outputs": [
    {
     "data": {
      "text/plain": [
       "GridSearchCV(cv=5, estimator=RandomForestRegressor(),\n",
       "             param_grid={'max_depth': [10, 20], 'n_estimators': [10]})"
      ]
     },
     "execution_count": 61,
     "metadata": {},
     "output_type": "execute_result"
    }
   ],
   "source": [
    "# RFR\n",
    "X = CountVectorizer(ngram_range=(1,2),min_df=7,max_df=0.3).fit_transform(text)\n",
    "rfr=RandomForestRegressor()\n",
    "\n",
    "param_grid_bi = { \n",
    "    'n_estimators': [10],\n",
    "    'max_depth' : [10,20],\n",
    "}\n",
    "\n",
    "CV_rfr_bi = GridSearchCV(estimator=rfr, param_grid=param_grid_bi, cv= 5)\n",
    "CV_rfr_bi.fit(X, stars)\n"
   ]
  },
  {
   "cell_type": "code",
   "execution_count": 62,
   "metadata": {},
   "outputs": [
    {
     "data": {
      "text/plain": [
       "{'max_depth': 10, 'n_estimators': 10}"
      ]
     },
     "execution_count": 62,
     "metadata": {},
     "output_type": "execute_result"
    }
   ],
   "source": [
    "\n",
    "CV_rfr_bi.best_params_\n"
   ]
  },
  {
   "cell_type": "code",
   "execution_count": 66,
   "metadata": {},
   "outputs": [],
   "source": [
    "# input the best parameters\n",
    "\n",
    "rfr_best_bi = Pipeline([\n",
    "    ('Vec',CountVectorizer(ngram_range=(1,2),min_df=7,max_df=0.3)),\n",
    "    ('RFR',RandomForestRegressor(n_estimators=10,max_depth=20))\n",
    "\n",
    "])\n"
   ]
  },
  {
   "cell_type": "code",
   "execution_count": 67,
   "metadata": {},
   "outputs": [
    {
     "data": {
      "text/plain": [
       "Pipeline(steps=[('Vec',\n",
       "                 CountVectorizer(max_df=0.3, min_df=7, ngram_range=(1, 2))),\n",
       "                ('RFR', RandomForestRegressor(max_depth=20, n_estimators=10))])"
      ]
     },
     "execution_count": 67,
     "metadata": {},
     "output_type": "execute_result"
    }
   ],
   "source": [
    "\n",
    "rfr_best_bi.fit(text_train,stars_train)"
   ]
  },
  {
   "cell_type": "code",
   "execution_count": 68,
   "metadata": {},
   "outputs": [
    {
     "name": "stdout",
     "output_type": "stream",
     "text": [
      "MSE for RFR bigram = 1.0253149816826812\n",
      "R2 for RFR bigram = 0.488539071999716\n"
     ]
    }
   ],
   "source": [
    "pred_bi=rfr_best_bi.predict(text_test)\n",
    "print('MSE for RFR bigram =',metrics.mean_squared_error(stars_test,pred_bi))\n",
    "print('R2 for RFR bigram =',metrics.r2_score(stars_test,pred_bi))"
   ]
  },
  {
   "cell_type": "markdown",
   "metadata": {},
   "source": [
    "### 2 examples\n"
   ]
  },
  {
   "cell_type": "markdown",
   "metadata": {},
   "source": [
    "#### bad example"
   ]
  },
  {
   "cell_type": "code",
   "execution_count": 105,
   "metadata": {},
   "outputs": [
    {
     "name": "stdout",
     "output_type": "stream",
     "text": [
      "14th review text: 1773892    So I've been here quite a few times, and the m...\n",
      "Name: text, dtype: object\n"
     ]
    }
   ],
   "source": [
    "print('14th review text:',text_test[14:15])"
   ]
  },
  {
   "cell_type": "code",
   "execution_count": 98,
   "metadata": {},
   "outputs": [
    {
     "name": "stdout",
     "output_type": "stream",
     "text": [
      "14th review star: 1773892    1.0\n",
      "Name: stars, dtype: float64\n",
      "14th review text: 1773892    So I've been here quite a few times, and the m...\n",
      "Name: text, dtype: object\n",
      "14th review pred_bi: [1.72579848]\n"
     ]
    }
   ],
   "source": [
    "print('14th review star:',stars_test[14:15])\n",
    "print('14th review text:',text_test[14:15])\n",
    "print('14th review pred_bi:',pred_bi[14:15])\n"
   ]
  },
  {
   "cell_type": "markdown",
   "metadata": {},
   "source": [
    "#### good example"
   ]
  },
  {
   "cell_type": "code",
   "execution_count": 92,
   "metadata": {},
   "outputs": [
    {
     "name": "stdout",
     "output_type": "stream",
     "text": [
      "2008th review star: 4030637    5.0\n",
      "Name: stars, dtype: float64\n",
      "2008th review text: 4030637    I really liked this place. The atmosphere was ...\n",
      "Name: text, dtype: object\n",
      "2008th review pred_bi: [4.52004891]\n"
     ]
    }
   ],
   "source": [
    "print('2008th review star:',stars_test[2008:2009])\n",
    "print('2008th review text:',text_test[2008:2009])\n",
    "print('2008th review pred_bi:',pred_bi[2008:2009])"
   ]
  },
  {
   "cell_type": "markdown",
   "metadata": {},
   "source": [
    "### Bigram model with TFIDF"
   ]
  },
  {
   "cell_type": "code",
   "execution_count": null,
   "metadata": {},
   "outputs": [],
   "source": [
    "# RFR\n",
    "V = CountVectorizer(ngram_range=(1,2),min_df=7,max_df=0.2)\n",
    "X = TfidfTransformer().fit_transform(V)\n",
    "rfr=RandomForestRegressor()\n",
    "\n",
    "param_grid_binorm = { \n",
    "    'n_estimators': [10],\n",
    "    'max_depth' : [10,20],\n",
    "}\n",
    "\n",
    "CV_rfr_binorm = GridSearchCV(estimator=rfr, param_grid=param_grid_binorm, cv= 5)\n",
    "CV_rfr_binorm.fit(X, stars)\n"
   ]
  },
  {
   "cell_type": "code",
   "execution_count": null,
   "metadata": {},
   "outputs": [],
   "source": [
    "\n",
    "CV_rfr_binorm.best_params_\n"
   ]
  },
  {
   "cell_type": "code",
   "execution_count": 106,
   "metadata": {},
   "outputs": [],
   "source": [
    "# input the best parameters\n",
    "\n",
    "rfr_best_binorm = Pipeline([\n",
    "    ('Vec',CountVectorizer(ngram_range=(1,2),min_df=7,max_df=0.3)),\n",
    "    ('tfidf',TfidfTransformer()),\n",
    "    ('RFR',RandomForestRegressor(n_estimators=10,max_depth=20))\n",
    "\n",
    "])\n"
   ]
  },
  {
   "cell_type": "code",
   "execution_count": 107,
   "metadata": {},
   "outputs": [
    {
     "data": {
      "text/plain": [
       "Pipeline(steps=[('Vec',\n",
       "                 CountVectorizer(max_df=0.3, min_df=7, ngram_range=(1, 2))),\n",
       "                ('tfidf', TfidfTransformer()),\n",
       "                ('RFR', RandomForestRegressor(max_depth=20, n_estimators=10))])"
      ]
     },
     "execution_count": 107,
     "metadata": {},
     "output_type": "execute_result"
    }
   ],
   "source": [
    "\n",
    "rfr_best_binorm.fit(text_train,stars_train)"
   ]
  },
  {
   "cell_type": "code",
   "execution_count": 110,
   "metadata": {},
   "outputs": [
    {
     "name": "stdout",
     "output_type": "stream",
     "text": [
      "MSE for RFR bigram_tfidf = 1.0081564562194263\n",
      "R2 for RFR bigram_tfidf = 0.49709831039312213\n"
     ]
    }
   ],
   "source": [
    "pred_binorm=rfr_best_binorm.predict(text_test)\n",
    "print('MSE for RFR bigram_tfidf =',metrics.mean_squared_error(stars_test,pred_binorm))\n",
    "print('R2 for RFR bigram_tfidf =',metrics.r2_score(stars_test,pred_binorm))"
   ]
  },
  {
   "cell_type": "code",
   "execution_count": null,
   "metadata": {},
   "outputs": [],
   "source": []
  },
  {
   "cell_type": "code",
   "execution_count": null,
   "metadata": {},
   "outputs": [],
   "source": []
  },
  {
   "cell_type": "code",
   "execution_count": null,
   "metadata": {},
   "outputs": [],
   "source": []
  },
  {
   "cell_type": "code",
   "execution_count": null,
   "metadata": {},
   "outputs": [],
   "source": []
  }
 ],
 "metadata": {
  "kernelspec": {
   "display_name": "Python 3",
   "language": "python",
   "name": "python3"
  },
  "language_info": {
   "codemirror_mode": {
    "name": "ipython",
    "version": 3
   },
   "file_extension": ".py",
   "mimetype": "text/x-python",
   "name": "python",
   "nbconvert_exporter": "python",
   "pygments_lexer": "ipython3",
   "version": "3.9.7"
  },
  "nbclean": true
 },
 "nbformat": 4,
 "nbformat_minor": 1
}
