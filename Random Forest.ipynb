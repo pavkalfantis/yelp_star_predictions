{
 "cells": [
  {
   "cell_type": "markdown",
   "metadata": {},
   "source": [
    "# Predicting restaurant ratings from Yelp reviews with NLP\n"
   ]
  },
  {
   "cell_type": "markdown",
   "metadata": {},
   "source": [
    "As part of the Machine Learning course for the Master of Science project in Data Science and Machine Learning at the National Technical University of Athens, we are using the Yelp Academic Dataset to make predictions of user's ratings on restaurants, based on the text of their review. \n",
    "\n",
    "The basic analysis steps that we carried out for this project are outlined on this notebook."
   ]
  },
  {
   "cell_type": "code",
   "execution_count": 86,
   "metadata": {},
   "outputs": [],
   "source": [
    "#Load libraries\n",
    "\n",
    "from sklearn.feature_extraction.text import CountVectorizer,HashingVectorizer,TfidfTransformer\n",
    "from sklearn.model_selection import train_test_split\n",
    "from sklearn.model_selection import ParameterGrid, GridSearchCV\n",
    "from sklearn.pipeline import Pipeline\n",
    "from sklearn.linear_model import RidgeCV, Ridge, SGDRegressor\n",
    "from sklearn.svm import SVR\n",
    "from sklearn.ensemble import RandomForestRegressor\n",
    "from sklearn import metrics\n",
    "from sklearn import base\n",
    "import numpy as np\n",
    "import pandas as pd\n",
    "import matplotlib.pyplot as plt\n",
    "#import dill"
   ]
  },
  {
   "cell_type": "markdown",
   "metadata": {},
   "source": [
    "## Load and parse the data\n"
   ]
  },
  {
   "cell_type": "code",
   "execution_count": 2,
   "metadata": {},
   "outputs": [],
   "source": [
    "#Open the business.csv file with information on businesses found on Yelp\n",
    "\n",
    "business=pd.read_csv('dataset-capstone/business.csv',low_memory=False)"
   ]
  },
  {
   "cell_type": "code",
   "execution_count": 3,
   "metadata": {},
   "outputs": [
    {
     "data": {
      "text/plain": [
       "(74587, 60)"
      ]
     },
     "execution_count": 3,
     "metadata": {},
     "output_type": "execute_result"
    }
   ],
   "source": [
    "#Keep only restaurants\n",
    "\n",
    "restaurants=business[(business.categories.str.contains('Restaurants'))  | (business.categories.str.contains('Food'))]\n",
    "restaurants.shape"
   ]
  },
  {
   "cell_type": "code",
   "execution_count": 4,
   "metadata": {},
   "outputs": [],
   "source": [
    "#Since we need only text, stars and mapping to business, preprocess the chunks for memory efficiency\n",
    "def review_preprocess(chunk):\n",
    "    chunk=chunk[['stars','text','business_id']]\n",
    "    return chunk"
   ]
  },
  {
   "cell_type": "code",
   "execution_count": 5,
   "metadata": {},
   "outputs": [
    {
     "data": {
      "text/html": [
       "<div>\n",
       "<style scoped>\n",
       "    .dataframe tbody tr th:only-of-type {\n",
       "        vertical-align: middle;\n",
       "    }\n",
       "\n",
       "    .dataframe tbody tr th {\n",
       "        vertical-align: top;\n",
       "    }\n",
       "\n",
       "    .dataframe thead th {\n",
       "        text-align: right;\n",
       "    }\n",
       "</style>\n",
       "<table border=\"1\" class=\"dataframe\">\n",
       "  <thead>\n",
       "    <tr style=\"text-align: right;\">\n",
       "      <th></th>\n",
       "      <th>stars</th>\n",
       "      <th>text</th>\n",
       "      <th>business_id</th>\n",
       "    </tr>\n",
       "  </thead>\n",
       "  <tbody>\n",
       "    <tr>\n",
       "      <th>0</th>\n",
       "      <td>1.0</td>\n",
       "      <td>Total bill for this horrible service? Over $8G...</td>\n",
       "      <td>ujmEBvifdJM6h6RLv4wQIg</td>\n",
       "    </tr>\n",
       "    <tr>\n",
       "      <th>1</th>\n",
       "      <td>5.0</td>\n",
       "      <td>I *adore* Travis at the Hard Rock's new Kelly ...</td>\n",
       "      <td>NZnhc2sEQy3RmzKTZnqtwQ</td>\n",
       "    </tr>\n",
       "    <tr>\n",
       "      <th>2</th>\n",
       "      <td>5.0</td>\n",
       "      <td>I have to say that this office really has it t...</td>\n",
       "      <td>WTqjgwHlXbSFevF32_DJVw</td>\n",
       "    </tr>\n",
       "    <tr>\n",
       "      <th>3</th>\n",
       "      <td>5.0</td>\n",
       "      <td>Went in for a lunch. Steak sandwich was delici...</td>\n",
       "      <td>ikCg8xy5JIg_NGPx-MSIDA</td>\n",
       "    </tr>\n",
       "    <tr>\n",
       "      <th>4</th>\n",
       "      <td>1.0</td>\n",
       "      <td>Today was my second out of three sessions I ha...</td>\n",
       "      <td>b1b1eb3uo-w561D0ZfCEiQ</td>\n",
       "    </tr>\n",
       "    <tr>\n",
       "      <th>...</th>\n",
       "      <td>...</td>\n",
       "      <td>...</td>\n",
       "      <td>...</td>\n",
       "    </tr>\n",
       "    <tr>\n",
       "      <th>6685895</th>\n",
       "      <td>5.0</td>\n",
       "      <td>I have been coming here for years and this pla...</td>\n",
       "      <td>RXBFk3tVBxiTf3uOt9KExQ</td>\n",
       "    </tr>\n",
       "    <tr>\n",
       "      <th>6685896</th>\n",
       "      <td>1.0</td>\n",
       "      <td>I think this owner and the owner of Amy's Baki...</td>\n",
       "      <td>yA6dKNm_zl1ucZCnwW8ZCg</td>\n",
       "    </tr>\n",
       "    <tr>\n",
       "      <th>6685897</th>\n",
       "      <td>5.0</td>\n",
       "      <td>Off the grid Mexican in Vegas. Very tasty, qua...</td>\n",
       "      <td>a192hdM0_UVCYLwPJv1Qwg</td>\n",
       "    </tr>\n",
       "    <tr>\n",
       "      <th>6685898</th>\n",
       "      <td>5.0</td>\n",
       "      <td>We hired Taco Naco to cater our family party a...</td>\n",
       "      <td>kOo4ZY2UQAX4j312mzQ8mA</td>\n",
       "    </tr>\n",
       "    <tr>\n",
       "      <th>6685899</th>\n",
       "      <td>3.0</td>\n",
       "      <td>Having just come back from Hawaii a few months...</td>\n",
       "      <td>PkqN5st3zZ_Xce_5QlBtNQ</td>\n",
       "    </tr>\n",
       "  </tbody>\n",
       "</table>\n",
       "<p>6685900 rows × 3 columns</p>\n",
       "</div>"
      ],
      "text/plain": [
       "         stars                                               text  \\\n",
       "0          1.0  Total bill for this horrible service? Over $8G...   \n",
       "1          5.0  I *adore* Travis at the Hard Rock's new Kelly ...   \n",
       "2          5.0  I have to say that this office really has it t...   \n",
       "3          5.0  Went in for a lunch. Steak sandwich was delici...   \n",
       "4          1.0  Today was my second out of three sessions I ha...   \n",
       "...        ...                                                ...   \n",
       "6685895    5.0  I have been coming here for years and this pla...   \n",
       "6685896    1.0  I think this owner and the owner of Amy's Baki...   \n",
       "6685897    5.0  Off the grid Mexican in Vegas. Very tasty, qua...   \n",
       "6685898    5.0  We hired Taco Naco to cater our family party a...   \n",
       "6685899    3.0  Having just come back from Hawaii a few months...   \n",
       "\n",
       "                    business_id  \n",
       "0        ujmEBvifdJM6h6RLv4wQIg  \n",
       "1        NZnhc2sEQy3RmzKTZnqtwQ  \n",
       "2        WTqjgwHlXbSFevF32_DJVw  \n",
       "3        ikCg8xy5JIg_NGPx-MSIDA  \n",
       "4        b1b1eb3uo-w561D0ZfCEiQ  \n",
       "...                         ...  \n",
       "6685895  RXBFk3tVBxiTf3uOt9KExQ  \n",
       "6685896  yA6dKNm_zl1ucZCnwW8ZCg  \n",
       "6685897  a192hdM0_UVCYLwPJv1Qwg  \n",
       "6685898  kOo4ZY2UQAX4j312mzQ8mA  \n",
       "6685899  PkqN5st3zZ_Xce_5QlBtNQ  \n",
       "\n",
       "[6685900 rows x 3 columns]"
      ]
     },
     "execution_count": 5,
     "metadata": {},
     "output_type": "execute_result"
    }
   ],
   "source": [
    "chunk_list = []  # append each chunk df here \n",
    "\n",
    "# Each chunk is in df format\n",
    "for chunk in pd.read_csv('dataset-capstone/review.csv', chunksize=100000):  \n",
    "    # perform data filtering \n",
    "    chunk_filter = review_preprocess(chunk)\n",
    "    # Once the data filtering is done, append the chunk to list\n",
    "    chunk_list.append(chunk_filter)\n",
    "    \n",
    "# concat the list into dataframe \n",
    "reviews = pd.concat(chunk_list)\n",
    "reviews"
   ]
  },
  {
   "cell_type": "code",
   "execution_count": 7,
   "metadata": {},
   "outputs": [],
   "source": [
    "rest_reviews = pd.merge(how='left',left=restaurants[['business_id','name']], right=reviews, left_on='business_id', right_on='business_id')\n"
   ]
  },
  {
   "cell_type": "code",
   "execution_count": 8,
   "metadata": {},
   "outputs": [],
   "source": [
    "rest_reviews.dropna(inplace=True)"
   ]
  },
  {
   "cell_type": "code",
   "execution_count": 9,
   "metadata": {},
   "outputs": [
    {
     "data": {
      "text/html": [
       "<div>\n",
       "<style scoped>\n",
       "    .dataframe tbody tr th:only-of-type {\n",
       "        vertical-align: middle;\n",
       "    }\n",
       "\n",
       "    .dataframe tbody tr th {\n",
       "        vertical-align: top;\n",
       "    }\n",
       "\n",
       "    .dataframe thead th {\n",
       "        text-align: right;\n",
       "    }\n",
       "</style>\n",
       "<table border=\"1\" class=\"dataframe\">\n",
       "  <thead>\n",
       "    <tr style=\"text-align: right;\">\n",
       "      <th></th>\n",
       "      <th>business_id</th>\n",
       "      <th>name</th>\n",
       "      <th>stars</th>\n",
       "      <th>text</th>\n",
       "    </tr>\n",
       "  </thead>\n",
       "  <tbody>\n",
       "    <tr>\n",
       "      <th>0</th>\n",
       "      <td>QXAEGFB4oINsVuTFxEYKFQ</td>\n",
       "      <td>Emerald Chinese Restaurant</td>\n",
       "      <td>3.0</td>\n",
       "      <td>My girlfriend and I went for dinner at Emerald...</td>\n",
       "    </tr>\n",
       "    <tr>\n",
       "      <th>1</th>\n",
       "      <td>QXAEGFB4oINsVuTFxEYKFQ</td>\n",
       "      <td>Emerald Chinese Restaurant</td>\n",
       "      <td>3.0</td>\n",
       "      <td>We've always been there on a Sunday so we were...</td>\n",
       "    </tr>\n",
       "    <tr>\n",
       "      <th>2</th>\n",
       "      <td>QXAEGFB4oINsVuTFxEYKFQ</td>\n",
       "      <td>Emerald Chinese Restaurant</td>\n",
       "      <td>3.0</td>\n",
       "      <td>***No automatic doors, not baby friendly!*** I...</td>\n",
       "    </tr>\n",
       "    <tr>\n",
       "      <th>3</th>\n",
       "      <td>QXAEGFB4oINsVuTFxEYKFQ</td>\n",
       "      <td>Emerald Chinese Restaurant</td>\n",
       "      <td>1.0</td>\n",
       "      <td>Horrible service,\\r\\nI went there tonight with...</td>\n",
       "    </tr>\n",
       "    <tr>\n",
       "      <th>4</th>\n",
       "      <td>QXAEGFB4oINsVuTFxEYKFQ</td>\n",
       "      <td>Emerald Chinese Restaurant</td>\n",
       "      <td>4.0</td>\n",
       "      <td>One of the gauges of a good Chinese restaurant...</td>\n",
       "    </tr>\n",
       "    <tr>\n",
       "      <th>...</th>\n",
       "      <td>...</td>\n",
       "      <td>...</td>\n",
       "      <td>...</td>\n",
       "      <td>...</td>\n",
       "    </tr>\n",
       "    <tr>\n",
       "      <th>4580296</th>\n",
       "      <td>p1eUTUB_5hf1enoKYBV3DA</td>\n",
       "      <td>Ken Stewart's Tre Belle</td>\n",
       "      <td>5.0</td>\n",
       "      <td>When I write a review on someplace that I have...</td>\n",
       "    </tr>\n",
       "    <tr>\n",
       "      <th>4580297</th>\n",
       "      <td>p1eUTUB_5hf1enoKYBV3DA</td>\n",
       "      <td>Ken Stewart's Tre Belle</td>\n",
       "      <td>5.0</td>\n",
       "      <td>We stopped in at Tre Belle on a Tuesday evenin...</td>\n",
       "    </tr>\n",
       "    <tr>\n",
       "      <th>4580298</th>\n",
       "      <td>p1eUTUB_5hf1enoKYBV3DA</td>\n",
       "      <td>Ken Stewart's Tre Belle</td>\n",
       "      <td>3.0</td>\n",
       "      <td>I wasnt impressed. The place is beautiful and ...</td>\n",
       "    </tr>\n",
       "    <tr>\n",
       "      <th>4580299</th>\n",
       "      <td>p1eUTUB_5hf1enoKYBV3DA</td>\n",
       "      <td>Ken Stewart's Tre Belle</td>\n",
       "      <td>1.0</td>\n",
       "      <td>Last night some friends and I dined at this es...</td>\n",
       "    </tr>\n",
       "    <tr>\n",
       "      <th>4580300</th>\n",
       "      <td>p1eUTUB_5hf1enoKYBV3DA</td>\n",
       "      <td>Ken Stewart's Tre Belle</td>\n",
       "      <td>2.0</td>\n",
       "      <td>First let me list the positives.  The restaura...</td>\n",
       "    </tr>\n",
       "  </tbody>\n",
       "</table>\n",
       "<p>4580299 rows × 4 columns</p>\n",
       "</div>"
      ],
      "text/plain": [
       "                    business_id                        name  stars  \\\n",
       "0        QXAEGFB4oINsVuTFxEYKFQ  Emerald Chinese Restaurant    3.0   \n",
       "1        QXAEGFB4oINsVuTFxEYKFQ  Emerald Chinese Restaurant    3.0   \n",
       "2        QXAEGFB4oINsVuTFxEYKFQ  Emerald Chinese Restaurant    3.0   \n",
       "3        QXAEGFB4oINsVuTFxEYKFQ  Emerald Chinese Restaurant    1.0   \n",
       "4        QXAEGFB4oINsVuTFxEYKFQ  Emerald Chinese Restaurant    4.0   \n",
       "...                         ...                         ...    ...   \n",
       "4580296  p1eUTUB_5hf1enoKYBV3DA     Ken Stewart's Tre Belle    5.0   \n",
       "4580297  p1eUTUB_5hf1enoKYBV3DA     Ken Stewart's Tre Belle    5.0   \n",
       "4580298  p1eUTUB_5hf1enoKYBV3DA     Ken Stewart's Tre Belle    3.0   \n",
       "4580299  p1eUTUB_5hf1enoKYBV3DA     Ken Stewart's Tre Belle    1.0   \n",
       "4580300  p1eUTUB_5hf1enoKYBV3DA     Ken Stewart's Tre Belle    2.0   \n",
       "\n",
       "                                                      text  \n",
       "0        My girlfriend and I went for dinner at Emerald...  \n",
       "1        We've always been there on a Sunday so we were...  \n",
       "2        ***No automatic doors, not baby friendly!*** I...  \n",
       "3        Horrible service,\\r\\nI went there tonight with...  \n",
       "4        One of the gauges of a good Chinese restaurant...  \n",
       "...                                                    ...  \n",
       "4580296  When I write a review on someplace that I have...  \n",
       "4580297  We stopped in at Tre Belle on a Tuesday evenin...  \n",
       "4580298  I wasnt impressed. The place is beautiful and ...  \n",
       "4580299  Last night some friends and I dined at this es...  \n",
       "4580300  First let me list the positives.  The restaura...  \n",
       "\n",
       "[4580299 rows x 4 columns]"
      ]
     },
     "execution_count": 9,
     "metadata": {},
     "output_type": "execute_result"
    }
   ],
   "source": [
    "rest_reviews"
   ]
  },
  {
   "cell_type": "markdown",
   "metadata": {},
   "source": [
    "The dataset has more than 4.5 million reviews on restaurants with their corresponding rating. We will use this dataset to build the model of the analysis"
   ]
  },
  {
   "cell_type": "code",
   "execution_count": 10,
   "metadata": {},
   "outputs": [
    {
     "data": {
      "text/plain": [
       "(array([ 544139.,       0.,  420637.,       0.,       0.,  604359.,\n",
       "              0., 1191087.,       0., 1820077.]),\n",
       " array([1. , 1.4, 1.8, 2.2, 2.6, 3. , 3.4, 3.8, 4.2, 4.6, 5. ]),\n",
       " <a list of 10 Patch objects>)"
      ]
     },
     "execution_count": 10,
     "metadata": {},
     "output_type": "execute_result"
    },
    {
     "data": {
      "image/png": "[encoded data removed]",
      "text/plain": [
       "<Figure size 432x288 with 1 Axes>"
      ]
     },
     "metadata": {
      "needs_background": "light"
     },
     "output_type": "display_data"
    }
   ],
   "source": [
    "plt.hist(rest_reviews.stars)"
   ]
  },
  {
   "cell_type": "code",
   "execution_count": 12,
   "metadata": {},
   "outputs": [
    {
     "data": {
      "text/html": [
       "<div>\n",
       "<style scoped>\n",
       "    .dataframe tbody tr th:only-of-type {\n",
       "        vertical-align: middle;\n",
       "    }\n",
       "\n",
       "    .dataframe tbody tr th {\n",
       "        vertical-align: top;\n",
       "    }\n",
       "\n",
       "    .dataframe thead th {\n",
       "        text-align: right;\n",
       "    }\n",
       "</style>\n",
       "<table border=\"1\" class=\"dataframe\">\n",
       "  <thead>\n",
       "    <tr style=\"text-align: right;\">\n",
       "      <th></th>\n",
       "      <th>business_id</th>\n",
       "      <th>name</th>\n",
       "      <th>text</th>\n",
       "    </tr>\n",
       "    <tr>\n",
       "      <th>stars</th>\n",
       "      <th></th>\n",
       "      <th></th>\n",
       "      <th></th>\n",
       "    </tr>\n",
       "  </thead>\n",
       "  <tbody>\n",
       "    <tr>\n",
       "      <th>1.0</th>\n",
       "      <td>544139</td>\n",
       "      <td>544139</td>\n",
       "      <td>544139</td>\n",
       "    </tr>\n",
       "    <tr>\n",
       "      <th>2.0</th>\n",
       "      <td>420637</td>\n",
       "      <td>420637</td>\n",
       "      <td>420637</td>\n",
       "    </tr>\n",
       "    <tr>\n",
       "      <th>3.0</th>\n",
       "      <td>604359</td>\n",
       "      <td>604359</td>\n",
       "      <td>604359</td>\n",
       "    </tr>\n",
       "    <tr>\n",
       "      <th>4.0</th>\n",
       "      <td>1191087</td>\n",
       "      <td>1191087</td>\n",
       "      <td>1191087</td>\n",
       "    </tr>\n",
       "    <tr>\n",
       "      <th>5.0</th>\n",
       "      <td>1820077</td>\n",
       "      <td>1820077</td>\n",
       "      <td>1820077</td>\n",
       "    </tr>\n",
       "  </tbody>\n",
       "</table>\n",
       "</div>"
      ],
      "text/plain": [
       "       business_id     name     text\n",
       "stars                               \n",
       "1.0         544139   544139   544139\n",
       "2.0         420637   420637   420637\n",
       "3.0         604359   604359   604359\n",
       "4.0        1191087  1191087  1191087\n",
       "5.0        1820077  1820077  1820077"
      ]
     },
     "execution_count": 12,
     "metadata": {},
     "output_type": "execute_result"
    }
   ],
   "source": [
    "rest_reviews.groupby(['stars']).count()"
   ]
  },
  {
   "cell_type": "code",
   "execution_count": 130,
   "metadata": {},
   "outputs": [],
   "source": [
    "#Keep a smaller and balanced dataset\n",
    "\n",
    "#20000 reviews for each star\n",
    "\n",
    "chunk_list = []\n",
    "\n",
    "for i in range(5):\n",
    "    chunk_list.append(rest_reviews[rest_reviews.stars==i+1].sample(20000))\n",
    "    \n",
    "small_dataset = pd.concat(chunk_list)\n",
    "\n"
   ]
  },
  {
   "cell_type": "code",
   "execution_count": 131,
   "metadata": {},
   "outputs": [
    {
     "data": {
      "text/html": [
       "<div>\n",
       "<style scoped>\n",
       "    .dataframe tbody tr th:only-of-type {\n",
       "        vertical-align: middle;\n",
       "    }\n",
       "\n",
       "    .dataframe tbody tr th {\n",
       "        vertical-align: top;\n",
       "    }\n",
       "\n",
       "    .dataframe thead th {\n",
       "        text-align: right;\n",
       "    }\n",
       "</style>\n",
       "<table border=\"1\" class=\"dataframe\">\n",
       "  <thead>\n",
       "    <tr style=\"text-align: right;\">\n",
       "      <th></th>\n",
       "      <th>business_id</th>\n",
       "      <th>name</th>\n",
       "      <th>stars</th>\n",
       "      <th>text</th>\n",
       "    </tr>\n",
       "  </thead>\n",
       "  <tbody>\n",
       "    <tr>\n",
       "      <th>2583625</th>\n",
       "      <td>qyOALwyMLbXKSt38glZ7yg</td>\n",
       "      <td>Tea &amp; Toast</td>\n",
       "      <td>1.0</td>\n",
       "      <td>I really wanted to love this place. I should h...</td>\n",
       "    </tr>\n",
       "    <tr>\n",
       "      <th>30319</th>\n",
       "      <td>yYkvonvBGZB6UMnpzr6Ryw</td>\n",
       "      <td>Burger King</td>\n",
       "      <td>1.0</td>\n",
       "      <td>Ordered a fish sandwich. Not edible! Looked li...</td>\n",
       "    </tr>\n",
       "    <tr>\n",
       "      <th>1774827</th>\n",
       "      <td>297IsfhbVDVFsYtQ8ICQJQ</td>\n",
       "      <td>South St. Burger</td>\n",
       "      <td>1.0</td>\n",
       "      <td>I've been here a few times and was always impr...</td>\n",
       "    </tr>\n",
       "    <tr>\n",
       "      <th>1871649</th>\n",
       "      <td>wc8OIBX3scjxuGOokPy_PA</td>\n",
       "      <td>Zella's Pizza &amp; Cheesesteaks</td>\n",
       "      <td>1.0</td>\n",
       "      <td>We used to love this place for the $5 pizzas. ...</td>\n",
       "    </tr>\n",
       "    <tr>\n",
       "      <th>3915804</th>\n",
       "      <td>gRCEObNuHtI61xR32ytqNQ</td>\n",
       "      <td>Palace Station Hotel &amp; Casino</td>\n",
       "      <td>1.0</td>\n",
       "      <td>I'm so disgusted with the experience and lack ...</td>\n",
       "    </tr>\n",
       "    <tr>\n",
       "      <th>...</th>\n",
       "      <td>...</td>\n",
       "      <td>...</td>\n",
       "      <td>...</td>\n",
       "      <td>...</td>\n",
       "    </tr>\n",
       "    <tr>\n",
       "      <th>2685988</th>\n",
       "      <td>0wW9PasC8pw8SY7rlY3ZKw</td>\n",
       "      <td>Fish King Grill</td>\n",
       "      <td>5.0</td>\n",
       "      <td>Went tonight with my family for Mothers Day di...</td>\n",
       "    </tr>\n",
       "    <tr>\n",
       "      <th>4004891</th>\n",
       "      <td>uBdYMY6a6A7FyxzTSwOiDg</td>\n",
       "      <td>Kitchen Table</td>\n",
       "      <td>5.0</td>\n",
       "      <td>I hate posting a good review because that mean...</td>\n",
       "    </tr>\n",
       "    <tr>\n",
       "      <th>3543595</th>\n",
       "      <td>wIMhHjK6LuGsvpXWR4ntPg</td>\n",
       "      <td>Tosinos Mexican Grill</td>\n",
       "      <td>5.0</td>\n",
       "      <td>Our family loves Tosinos! We've eaten in and t...</td>\n",
       "    </tr>\n",
       "    <tr>\n",
       "      <th>3308685</th>\n",
       "      <td>JDZ6_yycNQFTpUZzLIKHUg</td>\n",
       "      <td>El Dorado Cantina</td>\n",
       "      <td>5.0</td>\n",
       "      <td>Awesome place! You won't regret it! Your tummy...</td>\n",
       "    </tr>\n",
       "    <tr>\n",
       "      <th>2066348</th>\n",
       "      <td>XbkpdDXhunFhAWLNRAiVIw</td>\n",
       "      <td>Shako Mako Grill</td>\n",
       "      <td>5.0</td>\n",
       "      <td>Delicious &amp; inexpensive. Gyro meal 5.99 right ...</td>\n",
       "    </tr>\n",
       "  </tbody>\n",
       "</table>\n",
       "<p>100000 rows × 4 columns</p>\n",
       "</div>"
      ],
      "text/plain": [
       "                    business_id                           name  stars  \\\n",
       "2583625  qyOALwyMLbXKSt38glZ7yg                    Tea & Toast    1.0   \n",
       "30319    yYkvonvBGZB6UMnpzr6Ryw                    Burger King    1.0   \n",
       "1774827  297IsfhbVDVFsYtQ8ICQJQ               South St. Burger    1.0   \n",
       "1871649  wc8OIBX3scjxuGOokPy_PA   Zella's Pizza & Cheesesteaks    1.0   \n",
       "3915804  gRCEObNuHtI61xR32ytqNQ  Palace Station Hotel & Casino    1.0   \n",
       "...                         ...                            ...    ...   \n",
       "2685988  0wW9PasC8pw8SY7rlY3ZKw                Fish King Grill    5.0   \n",
       "4004891  uBdYMY6a6A7FyxzTSwOiDg                  Kitchen Table    5.0   \n",
       "3543595  wIMhHjK6LuGsvpXWR4ntPg          Tosinos Mexican Grill    5.0   \n",
       "3308685  JDZ6_yycNQFTpUZzLIKHUg              El Dorado Cantina    5.0   \n",
       "2066348  XbkpdDXhunFhAWLNRAiVIw               Shako Mako Grill    5.0   \n",
       "\n",
       "                                                      text  \n",
       "2583625  I really wanted to love this place. I should h...  \n",
       "30319    Ordered a fish sandwich. Not edible! Looked li...  \n",
       "1774827  I've been here a few times and was always impr...  \n",
       "1871649  We used to love this place for the $5 pizzas. ...  \n",
       "3915804  I'm so disgusted with the experience and lack ...  \n",
       "...                                                    ...  \n",
       "2685988  Went tonight with my family for Mothers Day di...  \n",
       "4004891  I hate posting a good review because that mean...  \n",
       "3543595  Our family loves Tosinos! We've eaten in and t...  \n",
       "3308685  Awesome place! You won't regret it! Your tummy...  \n",
       "2066348  Delicious & inexpensive. Gyro meal 5.99 right ...  \n",
       "\n",
       "[100000 rows x 4 columns]"
      ]
     },
     "execution_count": 131,
     "metadata": {},
     "output_type": "execute_result"
    }
   ],
   "source": [
    "small_dataset"
   ]
  },
  {
   "cell_type": "code",
   "execution_count": 21,
   "metadata": {},
   "outputs": [],
   "source": [
    "#Do not use \n",
    "\n",
    "stars = rest_reviews.stars\n",
    "text = rest_reviews.text\n"
   ]
  },
  {
   "cell_type": "code",
   "execution_count": 132,
   "metadata": {},
   "outputs": [],
   "source": [
    "#Use subset\n",
    "\n",
    "stars = small_dataset.stars\n",
    "text = small_dataset.text"
   ]
  },
  {
   "cell_type": "code",
   "execution_count": 136,
   "metadata": {},
   "outputs": [],
   "source": [
    "text_train, text_test, stars_train, stars_test = train_test_split(text, stars, test_size=0.2)"
   ]
  },
  {
   "cell_type": "code",
   "execution_count": 137,
   "metadata": {},
   "outputs": [
    {
     "data": {
      "text/plain": [
       "(array([16067.,     0., 15973.,     0.,     0., 15989.,     0., 16007.,\n",
       "            0., 15964.]),\n",
       " array([1. , 1.4, 1.8, 2.2, 2.6, 3. , 3.4, 3.8, 4.2, 4.6, 5. ]),\n",
       " <a list of 10 Patch objects>)"
      ]
     },
     "execution_count": 137,
     "metadata": {},
     "output_type": "execute_result"
    },
    {
     "data": {
      "image/png": "[encoded data removed]",
      "text/plain": [
       "<Figure size 432x288 with 1 Axes>"
      ]
     },
     "metadata": {
      "needs_background": "light"
     },
     "output_type": "display_data"
    }
   ],
   "source": [
    "plt.hist(stars_train)"
   ]
  },
  {
   "cell_type": "code",
   "execution_count": 138,
   "metadata": {},
   "outputs": [
    {
     "data": {
      "text/plain": [
       "(array([3933.,    0., 4027.,    0.,    0., 4011.,    0., 3993.,    0.,\n",
       "        4036.]),\n",
       " array([1. , 1.4, 1.8, 2.2, 2.6, 3. , 3.4, 3.8, 4.2, 4.6, 5. ]),\n",
       " <a list of 10 Patch objects>)"
      ]
     },
     "execution_count": 138,
     "metadata": {},
     "output_type": "execute_result"
    },
    {
     "data": {
      "image/png": "[encoded data removed]",
      "text/plain": [
       "<Figure size 432x288 with 1 Axes>"
      ]
     },
     "metadata": {
      "needs_background": "light"
     },
     "output_type": "display_data"
    }
   ],
   "source": [
    "plt.hist(stars_test)"
   ]
  },
  {
   "cell_type": "markdown",
   "metadata": {},
   "source": [
    "## Building models\n"
   ]
  },
  {
   "cell_type": "markdown",
   "metadata": {
    "heading_collapsed": true
   },
   "source": [
    "## bag_of_words_model"
   ]
  },
  {
   "cell_type": "markdown",
   "metadata": {
    "hidden": true
   },
   "source": [
    "First model is predicting the star rating based on the count of the words in each document. In order to use this method, we are using scikit-learn's [`CountVectorizer`](http://scikit-learn.org/stable/modules/generated/sklearn.feature_extraction.text.CountVectorizer.html#sklearn.feature_extraction.text.CountVectorizer) or [`HashingVectorizer`](http://scikit-learn.org/stable/modules/generated/sklearn.feature_extraction.text.HashingVectorizer.html#sklearn.feature_extraction.text.HashingVectorizer) (which saves time and memory allocation). After the text is tranformed to an X array of frequencies, we use cross validation to pick the optimal hyperparameters of the regressor. Regressors that are used are Linear, SVM and Random Forest\n"
   ]
  },
  {
   "cell_type": "code",
   "execution_count": 26,
   "metadata": {
    "hidden": true
   },
   "outputs": [],
   "source": [
    "#not used\n",
    "#X = HashingVectorizer().fit_transform(text)\n",
    "#X = CountVectorizer(min_df=2,max_df=0.5).fit_transform(text)"
   ]
  },
  {
   "cell_type": "code",
   "execution_count": 139,
   "metadata": {
    "hidden": true
   },
   "outputs": [
    {
     "data": {
      "text/plain": [
       "Pipeline(steps=[('Vec', CountVectorizer(max_df=0.2, min_df=7)),\n",
       "                ('SGD', SGDRegressor())])"
      ]
     },
     "execution_count": 139,
     "metadata": {},
     "output_type": "execute_result"
    }
   ],
   "source": [
    "#Grid Search for the Vectorizer\n",
    "\n",
    "param_grid_bow = {\n",
    "    'Vec__min_df':[2,3,5,7],\n",
    "    'Vec__max_df':[0.2,0.3]\n",
    "}\n",
    "\n",
    "bow_est = Pipeline([\n",
    "    ('Vec',CountVectorizer()),\n",
    "    ('SGD',SGDRegressor())\n",
    "])\n",
    "\n",
    "gs_bow=model_selection.GridSearchCV(\n",
    "    bow_est,param_grid_bow,\n",
    "    cv=5, \n",
    "    scoring='neg_mean_squared_error'\n",
    ")\n",
    "\n",
    "\n",
    "gs_bow.fit(text, stars) \n",
    "\n",
    "gs_bow.best_estimator_\n"
   ]
  },
  {
   "cell_type": "code",
   "execution_count": 141,
   "metadata": {},
   "outputs": [
    {
     "data": {
      "text/plain": [
       "Pipeline(steps=[('SGD', SGDRegressor(alpha=0.005, penalty='l1'))])"
      ]
     },
     "execution_count": 141,
     "metadata": {},
     "output_type": "execute_result"
    }
   ],
   "source": [
    "#Grid Search for  Regression (using stochastic gradient descent)\n",
    "\n",
    "#Use count vectorizer values from previous step\n",
    "\n",
    "X = CountVectorizer(min_df=7,max_df=0.2).fit_transform(text)\n",
    "\n",
    "param_grid_bow = {\n",
    "    #,\n",
    "    'SGD__penalty':['l1','l2'],\n",
    "    'SGD__alpha': [0.005,0.01,0.05]\n",
    "}\n",
    "\n",
    "bow_est = Pipeline([\n",
    "    ('SGD',SGDRegressor())\n",
    "])\n",
    "\n",
    "\n",
    "\n",
    "gs_bow=model_selection.GridSearchCV(\n",
    "    bow_est,param_grid_bow,\n",
    "    cv=5, \n",
    "    scoring='neg_mean_squared_error'\n",
    ")\n",
    "\n",
    "\n",
    "gs_bow.fit(X, stars) \n",
    "\n",
    "gs_bow.best_estimator_\n"
   ]
  },
  {
   "cell_type": "code",
   "execution_count": 142,
   "metadata": {},
   "outputs": [
    {
     "data": {
      "text/plain": [
       "{'SGD__alpha': 0.005, 'SGD__penalty': 'l1'}"
      ]
     },
     "execution_count": 142,
     "metadata": {},
     "output_type": "execute_result"
    }
   ],
   "source": [
    "list(ParameterGrid(param_grid_bow))[gs_bow.best_index_]"
   ]
  },
  {
   "cell_type": "code",
   "execution_count": 191,
   "metadata": {},
   "outputs": [
    {
     "data": {
      "text/plain": [
       "{'mean_fit_time': array([2.1678916 , 0.55502043, 1.92736721, 0.55001225, 1.15171781,\n",
       "        0.95516105]),\n",
       " 'std_fit_time': array([0.13295821, 0.30100584, 0.10745899, 0.28080812, 0.09114649,\n",
       "        0.21595287]),\n",
       " 'mean_score_time': array([0.00623598, 0.00311666, 0.00311847, 0.00623941, 0.00723934,\n",
       "        0.00624123]),\n",
       " 'std_score_time': array([0.00763749, 0.00623331, 0.00623693, 0.00764169, 0.00706534,\n",
       "        0.00764392]),\n",
       " 'param_SGD__alpha': masked_array(data=[0.005, 0.005, 0.01, 0.01, 0.05, 0.05],\n",
       "              mask=[False, False, False, False, False, False],\n",
       "        fill_value='?',\n",
       "             dtype=object),\n",
       " 'param_SGD__penalty': masked_array(data=['l1', 'l2', 'l1', 'l2', 'l1', 'l2'],\n",
       "              mask=[False, False, False, False, False, False],\n",
       "        fill_value='?',\n",
       "             dtype=object),\n",
       " 'params': [{'SGD__alpha': 0.005, 'SGD__penalty': 'l1'},\n",
       "  {'SGD__alpha': 0.005, 'SGD__penalty': 'l2'},\n",
       "  {'SGD__alpha': 0.01, 'SGD__penalty': 'l1'},\n",
       "  {'SGD__alpha': 0.01, 'SGD__penalty': 'l2'},\n",
       "  {'SGD__alpha': 0.05, 'SGD__penalty': 'l1'},\n",
       "  {'SGD__alpha': 0.05, 'SGD__penalty': 'l2'}],\n",
       " 'split0_test_score': array([ -3.79881133, -39.33178463,  -4.24260288, -45.04094422,\n",
       "         -5.52423442,  -2.7053512 ]),\n",
       " 'split1_test_score': array([  -0.908346  , -163.42028052,   -0.97650182,  -30.3192113 ,\n",
       "          -1.19062622,   -0.78824336]),\n",
       " 'split2_test_score': array([-3.97919977e-01, -8.74279360e+01, -3.53891790e-01, -2.87918637e+03,\n",
       "        -1.82625610e-01, -3.23363105e+00]),\n",
       " 'split3_test_score': array([  -0.94661087, -127.14771741,   -1.00746308, -278.69216783,\n",
       "          -1.44006582,   -1.01978621]),\n",
       " 'split4_test_score': array([-4.24202993, -3.79036088, -4.71102014, -3.74971117, -6.02519565,\n",
       "        -4.24413664]),\n",
       " 'mean_test_score': array([  -2.05874362,  -84.22361588,   -2.25829594, -647.39768075,\n",
       "          -2.87254955,   -2.39822969]),\n",
       " 'std_test_score': array([   1.61945447,   57.63617418,    1.83235718, 1120.24342798,\n",
       "           2.41193601,    1.31846531]),\n",
       " 'rank_test_score': array([1, 5, 2, 6, 4, 3])}"
      ]
     },
     "execution_count": 191,
     "metadata": {},
     "output_type": "execute_result"
    }
   ],
   "source": [
    "gs_bow.cv_results_"
   ]
  },
  {
   "cell_type": "code",
   "execution_count": null,
   "metadata": {},
   "outputs": [],
   "source": []
  },
  {
   "cell_type": "code",
   "execution_count": 185,
   "metadata": {
    "hidden": true
   },
   "outputs": [
    {
     "data": {
      "text/plain": [
       "Pipeline(steps=[('Vec', CountVectorizer(max_df=0.3, min_df=5)),\n",
       "                ('SGD', SGDRegressor(alpha=0.005, penalty='l1'))])"
      ]
     },
     "execution_count": 185,
     "metadata": {},
     "output_type": "execute_result"
    }
   ],
   "source": [
    "#Use final values \n",
    "\n",
    "bag_of_words_est = Pipeline([\n",
    "    ('Vec',CountVectorizer(min_df=5,max_df=0.3)),\n",
    "    ('SGD',SGDRegressor(alpha=0.005,penalty='l1'))\n",
    "])\n",
    "\n",
    "bag_of_words_est.fit(text_train,stars_train)"
   ]
  },
  {
   "cell_type": "code",
   "execution_count": 186,
   "metadata": {
    "hidden": true
   },
   "outputs": [],
   "source": [
    "pred=bag_of_words_est.predict(text_test)"
   ]
  },
  {
   "cell_type": "code",
   "execution_count": 187,
   "metadata": {
    "hidden": true
   },
   "outputs": [
    {
     "data": {
      "text/plain": [
       "1.0817897984423532"
      ]
     },
     "execution_count": 187,
     "metadata": {},
     "output_type": "execute_result"
    }
   ],
   "source": [
    "metrics.mean_squared_error(stars_test,pred)"
   ]
  },
  {
   "cell_type": "code",
   "execution_count": 188,
   "metadata": {
    "hidden": true
   },
   "outputs": [
    {
     "data": {
      "text/plain": [
       "0.4576750006019106"
      ]
     },
     "execution_count": 188,
     "metadata": {},
     "output_type": "execute_result"
    }
   ],
   "source": [
    "metrics.r2_score(stars_test,pred)"
   ]
  },
  {
   "cell_type": "markdown",
   "metadata": {
    "heading_collapsed": true
   },
   "source": [
    "## normalized_model with TF-IDF"
   ]
  },
  {
   "cell_type": "markdown",
   "metadata": {
    "hidden": true
   },
   "source": [
    "Normalization is key for good linear regression. Previously, we used the count as the normalization scheme.  Now we add a normalization with TF-IDF.\n",
    "\n",
    "[TF-IDF](https://en.wikipedia.org/wiki/Tf%E2%80%93idf) is a common normalization scheme used in text processing.  We Use the [`TfidfTransformer`](http://scikit-learn.org/stable/modules/generated/sklearn.feature_extraction.text.TfidfTransformer.html#sklearn.feature_extraction.text.TfidfTransformer). There are options for using `idf` and taking the logarithm of `tf`.  "
   ]
  },
  {
   "cell_type": "code",
   "execution_count": 147,
   "metadata": {
    "hidden": true
   },
   "outputs": [
    {
     "data": {
      "text/plain": [
       "Pipeline(steps=[('SGD', SGDRegressor(alpha=0.002))])"
      ]
     },
     "execution_count": 147,
     "metadata": {},
     "output_type": "execute_result"
    }
   ],
   "source": [
    "#Grid Search without the Vectorizer\n",
    "\n",
    "V = CountVectorizer(min_df=5,max_df=0.3).fit_transform(text)\n",
    "X = TfidfTransformer().fit_transform(V)\n",
    "\n",
    "param_grid_norm ={\n",
    "    'SGD__alpha': [0.002,0.01,0.015,0.05],\n",
    "    'SGD__penalty':['l1','l2']\n",
    "}\n",
    "\n",
    "norm_est = Pipeline([\n",
    "    ('SGD',SGDRegressor())\n",
    "])\n",
    "\n",
    "gs_norm=model_selection.GridSearchCV(\n",
    "    norm_est,param_grid_norm,\n",
    "    cv=5, \n",
    "    scoring='neg_mean_squared_error'\n",
    ")\n",
    "\n",
    "\n",
    "gs_norm.fit(X, stars) #X or text depending if we are grid searching on the vectorizer\n",
    "\n",
    "gs_norm.best_estimator_\n"
   ]
  },
  {
   "cell_type": "code",
   "execution_count": 148,
   "metadata": {},
   "outputs": [
    {
     "data": {
      "text/plain": [
       "{'SGD__alpha': 0.002, 'SGD__penalty': 'l2'}"
      ]
     },
     "execution_count": 148,
     "metadata": {},
     "output_type": "execute_result"
    }
   ],
   "source": [
    "list(ParameterGrid(param_grid_norm))[gs_norm.best_index_]"
   ]
  },
  {
   "cell_type": "code",
   "execution_count": 192,
   "metadata": {},
   "outputs": [
    {
     "data": {
      "text/plain": [
       "{'mean_fit_time': array([2.34511075, 1.22305288, 0.9217247 , 0.98905821, 0.85815849,\n",
       "        0.92494078, 0.77002716, 0.68920856]),\n",
       " 'std_fit_time': array([0.28371371, 0.05706455, 0.07826467, 0.05572645, 0.0613205 ,\n",
       "        0.07200569, 0.03561023, 0.02744133]),\n",
       " 'mean_score_time': array([0.        , 0.00623827, 0.00121536, 0.00319142, 0.00379114,\n",
       "        0.00571003, 0.        , 0.00450206]),\n",
       " 'std_score_time': array([0.        , 0.00764031, 0.00148873, 0.00183331, 0.00074775,\n",
       "        0.00529746, 0.        , 0.0057549 ]),\n",
       " 'param_SGD__alpha': masked_array(data=[0.002, 0.002, 0.01, 0.01, 0.015, 0.015, 0.05, 0.05],\n",
       "              mask=[False, False, False, False, False, False, False, False],\n",
       "        fill_value='?',\n",
       "             dtype=object),\n",
       " 'param_SGD__penalty': masked_array(data=['l1', 'l2', 'l1', 'l2', 'l1', 'l2', 'l1', 'l2'],\n",
       "              mask=[False, False, False, False, False, False, False, False],\n",
       "        fill_value='?',\n",
       "             dtype=object),\n",
       " 'params': [{'SGD__alpha': 0.002, 'SGD__penalty': 'l1'},\n",
       "  {'SGD__alpha': 0.002, 'SGD__penalty': 'l2'},\n",
       "  {'SGD__alpha': 0.01, 'SGD__penalty': 'l1'},\n",
       "  {'SGD__alpha': 0.01, 'SGD__penalty': 'l2'},\n",
       "  {'SGD__alpha': 0.015, 'SGD__penalty': 'l1'},\n",
       "  {'SGD__alpha': 0.015, 'SGD__penalty': 'l2'},\n",
       "  {'SGD__alpha': 0.05, 'SGD__penalty': 'l1'},\n",
       "  {'SGD__alpha': 0.05, 'SGD__penalty': 'l2'}],\n",
       " 'split0_test_score': array([-4.01213532, -3.5032313 , -5.08700352, -4.90561695, -5.47001492,\n",
       "        -5.18951904, -6.17405297, -5.81483091]),\n",
       " 'split1_test_score': array([-0.79333295, -0.6725129 , -0.97383149, -0.96676645, -1.1393821 ,\n",
       "        -1.0775463 , -1.5167159 , -1.35782772]),\n",
       " 'split2_test_score': array([-2.84617051e-01, -2.54044267e-01, -1.26656623e-01, -5.92027163e-02,\n",
       "        -7.53637382e-02, -3.53127697e-02, -2.72148553e-04, -6.08086138e-03]),\n",
       " 'split3_test_score': array([-1.22414917, -0.84756269, -1.55356451, -1.20789486, -1.58626423,\n",
       "        -1.291607  , -1.60720508, -1.46276833]),\n",
       " 'split4_test_score': array([-4.89029706, -4.52947212, -6.21261465, -5.74833441, -6.26221437,\n",
       "        -5.88786796, -6.3296579 , -6.16430135]),\n",
       " 'mean_test_score': array([-2.24090631, -1.96136466, -2.79073416, -2.57756308, -2.90664787,\n",
       "        -2.69637061, -3.1255808 , -2.96116184]),\n",
       " 'std_test_score': array([1.85001918, 1.71983518, 2.40462688, 2.29287685, 2.47844662,\n",
       "        2.36966775, 2.61613294, 2.52791997]),\n",
       " 'rank_test_score': array([2, 1, 5, 3, 6, 4, 8, 7])}"
      ]
     },
     "execution_count": 192,
     "metadata": {},
     "output_type": "execute_result"
    }
   ],
   "source": [
    "gs_norm.cv_results_"
   ]
  },
  {
   "cell_type": "code",
   "execution_count": 174,
   "metadata": {
    "hidden": true
   },
   "outputs": [
    {
     "data": {
      "text/plain": [
       "Pipeline(steps=[('Vec', CountVectorizer(max_df=0.3, min_df=5)),\n",
       "                ('tfidf', TfidfTransformer()),\n",
       "                ('SGD', SGDRegressor(alpha=0.002))])"
      ]
     },
     "execution_count": 174,
     "metadata": {},
     "output_type": "execute_result"
    }
   ],
   "source": [
    "#Use final values \n",
    "\n",
    "unigram_norm_est = Pipeline([\n",
    "    ('Vec',CountVectorizer(min_df=5,max_df=0.3)),\n",
    "    ('tfidf',TfidfTransformer()),\n",
    "    ('SGD',SGDRegressor(alpha=0.002,penalty='l2'))\n",
    "])\n",
    "\n",
    "unigram_norm_est.fit(text_train,stars_train)"
   ]
  },
  {
   "cell_type": "code",
   "execution_count": 175,
   "metadata": {
    "hidden": true
   },
   "outputs": [
    {
     "data": {
      "text/plain": [
       "0.9862763183870585"
      ]
     },
     "execution_count": 175,
     "metadata": {},
     "output_type": "execute_result"
    }
   ],
   "source": [
    "pred=unigram_norm_est.predict(text_test)\n",
    "metrics.mean_squared_error(stars_test,pred)"
   ]
  },
  {
   "cell_type": "code",
   "execution_count": 176,
   "metadata": {
    "hidden": true
   },
   "outputs": [
    {
     "data": {
      "text/plain": [
       "0.505558007160192"
      ]
     },
     "execution_count": 176,
     "metadata": {},
     "output_type": "execute_result"
    }
   ],
   "source": [
    "metrics.r2_score(stars_test,pred)"
   ]
  },
  {
   "cell_type": "markdown",
   "metadata": {
    "heading_collapsed": true
   },
   "source": [
    "## bigram_model"
   ]
  },
  {
   "cell_type": "markdown",
   "metadata": {
    "hidden": true
   },
   "source": [
    "In a bigram model, we'll consider both single words and pairs of consecutive words that appear.  This is going to be a much higher dimensional problem (large $p$) so we should be careful about overfitting. To avoid memory issues we are using the HashingVectorizer instead of the CountVectorizer\n"
   ]
  },
  {
   "cell_type": "code",
   "execution_count": 200,
   "metadata": {
    "hidden": true
   },
   "outputs": [
    {
     "data": {
      "text/plain": [
       "Pipeline(steps=[('SGD', SGDRegressor(alpha=0.005, penalty='l1'))])"
      ]
     },
     "execution_count": 200,
     "metadata": {},
     "output_type": "execute_result"
    }
   ],
   "source": [
    "#Grid Search for SGD\n",
    "\n",
    "#X = HashingVectorizer(ngram_range=(1,2)).fit_transform(text)\n",
    "\n",
    "X = CountVectorizer(min_df=7,max_df=0.2).fit_transform(text)\n",
    "\n",
    "param_grid_bi = {\n",
    "    'SGD__alpha': [0.005,0.01,0.05,0.1,1],\n",
    "    'SGD__penalty':['l1','l2']\n",
    "}\n",
    "\n",
    "bi_est = Pipeline([\n",
    "    ('SGD',SGDRegressor())\n",
    "])\n",
    "\n",
    "gs_bi=model_selection.GridSearchCV(\n",
    "    bi_est,param_grid_bi,\n",
    "    cv=5, \n",
    "    scoring='neg_mean_squared_error'\n",
    ")\n",
    "\n",
    "\n",
    "gs_bi.fit(X, stars) #X or text depending if we are grid searching on the vectorizer\n",
    "\n",
    "gs_bi.best_estimator_"
   ]
  },
  {
   "cell_type": "code",
   "execution_count": 201,
   "metadata": {},
   "outputs": [
    {
     "data": {
      "text/plain": [
       "{'SGD__alpha': 0.005, 'SGD__penalty': 'l1'}"
      ]
     },
     "execution_count": 201,
     "metadata": {},
     "output_type": "execute_result"
    }
   ],
   "source": [
    "list(ParameterGrid(param_grid_bi))[gs_bi.best_index_]"
   ]
  },
  {
   "cell_type": "code",
   "execution_count": 202,
   "metadata": {},
   "outputs": [
    {
     "data": {
      "text/plain": [
       "{'mean_fit_time': array([2.30005331, 0.5633934 , 2.04566493, 0.60734658, 1.14188619,\n",
       "        1.04172778, 0.9901824 , 1.19542723, 0.86987343, 0.92670798]),\n",
       " 'std_fit_time': array([0.13600255, 0.30260348, 0.23218363, 0.30671862, 0.11681008,\n",
       "        0.29658642, 0.12147386, 0.09159841, 0.02689492, 0.03688939]),\n",
       " 'mean_score_time': array([0.        , 0.00553751, 0.0104249 , 0.0059216 , 0.00202026,\n",
       "        0.0092473 , 0.00311875, 0.01036525, 0.00743566, 0.        ]),\n",
       " 'std_score_time': array([0.        , 0.00371539, 0.00666246, 0.00518365, 0.00256207,\n",
       "        0.00524045, 0.00623751, 0.00661325, 0.00700911, 0.        ]),\n",
       " 'param_SGD__alpha': masked_array(data=[0.005, 0.005, 0.01, 0.01, 0.05, 0.05, 0.1, 0.1, 1, 1],\n",
       "              mask=[False, False, False, False, False, False, False, False,\n",
       "                    False, False],\n",
       "        fill_value='?',\n",
       "             dtype=object),\n",
       " 'param_SGD__penalty': masked_array(data=['l1', 'l2', 'l1', 'l2', 'l1', 'l2', 'l1', 'l2', 'l1',\n",
       "                    'l2'],\n",
       "              mask=[False, False, False, False, False, False, False, False,\n",
       "                    False, False],\n",
       "        fill_value='?',\n",
       "             dtype=object),\n",
       " 'params': [{'SGD__alpha': 0.005, 'SGD__penalty': 'l1'},\n",
       "  {'SGD__alpha': 0.005, 'SGD__penalty': 'l2'},\n",
       "  {'SGD__alpha': 0.01, 'SGD__penalty': 'l1'},\n",
       "  {'SGD__alpha': 0.01, 'SGD__penalty': 'l2'},\n",
       "  {'SGD__alpha': 0.05, 'SGD__penalty': 'l1'},\n",
       "  {'SGD__alpha': 0.05, 'SGD__penalty': 'l2'},\n",
       "  {'SGD__alpha': 0.1, 'SGD__penalty': 'l1'},\n",
       "  {'SGD__alpha': 0.1, 'SGD__penalty': 'l2'},\n",
       "  {'SGD__alpha': 1, 'SGD__penalty': 'l1'},\n",
       "  {'SGD__alpha': 1, 'SGD__penalty': 'l2'}],\n",
       " 'split0_test_score': array([  -3.76713279, -198.52001122,   -4.34227168,   -6.46652874,\n",
       "          -5.45936986,   -3.73757643,   -6.10523918,   -3.89366905,\n",
       "          -6.16359737,   -5.22425367]),\n",
       " 'split1_test_score': array([-8.89373115e-01, -6.48868542e+03, -9.55871539e-01, -1.08609561e+02,\n",
       "        -1.16684054e+00, -5.96489090e-01, -1.33758128e+00, -8.22597323e-01,\n",
       "        -1.52247626e+00, -1.17450586e+00]),\n",
       " 'split2_test_score': array([-3.91136547e-01, -1.19317644e+02, -3.44839538e-01, -7.69484081e+03,\n",
       "        -1.72185629e-01, -1.14448973e+00, -6.21145185e-02, -3.81719263e-01,\n",
       "        -2.18179582e-04, -7.96200496e-02]),\n",
       " 'split3_test_score': array([ -0.97836279, -23.50947356,  -1.02003555, -25.41797367,\n",
       "         -1.42898148,  -0.95671213,  -1.71404574,  -0.85929479,\n",
       "         -1.60599299,  -1.18129451]),\n",
       " 'split4_test_score': array([-4.32242762, -3.74605404, -4.67730913, -3.88089606, -6.02410316,\n",
       "        -4.25504414, -6.33767899, -4.42904026, -6.32860652, -5.75725442]),\n",
       " 'mean_test_score': array([   -2.06968657, -1366.75572004,    -2.26806549, -1567.84315297,\n",
       "           -2.85029613,    -2.1380623 ,    -3.11133194,    -2.07726414,\n",
       "           -3.12417826,    -2.6833857 ]),\n",
       " 'std_test_score': array([1.63449219e+00, 2.56191905e+03, 1.84851378e+00, 3.06373671e+03,\n",
       "        2.40444383e+00, 1.53618229e+00, 2.59881215e+00, 1.71829499e+00,\n",
       "        2.61288696e+00, 2.33312112e+00]),\n",
       " 'rank_test_score': array([ 1,  9,  4, 10,  6,  3,  7,  2,  8,  5])}"
      ]
     },
     "execution_count": 202,
     "metadata": {},
     "output_type": "execute_result"
    }
   ],
   "source": [
    "gs_bi.cv_results_"
   ]
  },
  {
   "cell_type": "code",
   "execution_count": 207,
   "metadata": {},
   "outputs": [
    {
     "data": {
      "text/plain": [
       "Pipeline(steps=[('Vec', CountVectorizer(max_df=0.2, min_df=7)),\n",
       "                ('SGD', SGDRegressor(alpha=0.005, penalty='l1'))])"
      ]
     },
     "execution_count": 207,
     "metadata": {},
     "output_type": "execute_result"
    }
   ],
   "source": [
    "#Use final values \n",
    "\n",
    "\n",
    "bigram_est = Pipeline([\n",
    "     ('Vec',CountVectorizer(min_df=7,max_df=0.2)),\n",
    "   # ('Vec',HashingVectorizer(norm=None,ngram_range=(1,2))),\n",
    "    ('SGD',SGDRegressor(alpha=0.005, penalty='l1'))\n",
    "])\n",
    "\n",
    "bigram_est.fit(text_train,stars_train)"
   ]
  },
  {
   "cell_type": "code",
   "execution_count": 208,
   "metadata": {},
   "outputs": [
    {
     "data": {
      "text/plain": [
       "1.0997999850746087"
      ]
     },
     "execution_count": 208,
     "metadata": {},
     "output_type": "execute_result"
    }
   ],
   "source": [
    "pred=bigram_est.predict(text_test)\n",
    "metrics.mean_squared_error(stars_test,pred)"
   ]
  },
  {
   "cell_type": "code",
   "execution_count": 209,
   "metadata": {
    "scrolled": true
   },
   "outputs": [
    {
     "data": {
      "text/plain": [
       "0.4486460982508611"
      ]
     },
     "execution_count": 209,
     "metadata": {},
     "output_type": "execute_result"
    }
   ],
   "source": [
    "metrics.r2_score(stars_test,pred)"
   ]
  },
  {
   "cell_type": "code",
   "execution_count": null,
   "metadata": {},
   "outputs": [],
   "source": []
  },
  {
   "cell_type": "code",
   "execution_count": null,
   "metadata": {},
   "outputs": [],
   "source": []
  },
  {
   "cell_type": "markdown",
   "metadata": {},
   "source": [
    "## Bigram model with TFIDF"
   ]
  },
  {
   "cell_type": "code",
   "execution_count": 211,
   "metadata": {},
   "outputs": [
    {
     "data": {
      "text/plain": [
       "Pipeline(steps=[('SGD', SGDRegressor(alpha=0.005))])"
      ]
     },
     "execution_count": 211,
     "metadata": {},
     "output_type": "execute_result"
    }
   ],
   "source": [
    "#Grid Search for SGD\n",
    "V = CountVectorizer(min_df=7,max_df=0.2).fit_transform(text)\n",
    "#V = HashingVectorizer(norm=None,ngram_range=(1,2)).fit_transform(text)\n",
    "X = TfidfTransformer().fit_transform(V)\n",
    "\n",
    "param_grid_bi_norm = {\n",
    "    'SGD__alpha': [0.005,0.01,0.05,0.1,1],\n",
    "    'SGD__penalty':['l1','l2']\n",
    "}\n",
    "\n",
    "bi_norm_est = Pipeline([\n",
    "    ('SGD',SGDRegressor())\n",
    "])\n",
    "\n",
    "gs_bi_norm=model_selection.GridSearchCV(\n",
    "    bi_norm_est,param_grid_bi_norm,\n",
    "    cv=5, \n",
    "    scoring='neg_mean_squared_error'\n",
    ")\n",
    "\n",
    "\n",
    "gs_bi_norm.fit(X, stars) #X or stars depending if we are grid searching on the vectorizer\n",
    "\n",
    "gs_bi_norm.best_estimator_"
   ]
  },
  {
   "cell_type": "code",
   "execution_count": 213,
   "metadata": {},
   "outputs": [
    {
     "data": {
      "text/plain": [
       "{'SGD__alpha': 0.005, 'SGD__penalty': 'l2'}"
      ]
     },
     "execution_count": 213,
     "metadata": {},
     "output_type": "execute_result"
    }
   ],
   "source": [
    "list(ParameterGrid(param_grid_bi_norm))[gs_bi_norm.best_index_]"
   ]
  },
  {
   "cell_type": "code",
   "execution_count": 217,
   "metadata": {},
   "outputs": [
    {
     "data": {
      "text/plain": [
       "Pipeline(steps=[('Vec', CountVectorizer(max_df=0.2, min_df=7)),\n",
       "                ('tfidf', TfidfTransformer()),\n",
       "                ('SGD', SGDRegressor(alpha=0.005))])"
      ]
     },
     "execution_count": 217,
     "metadata": {},
     "output_type": "execute_result"
    }
   ],
   "source": [
    "#Use final values \n",
    "\n",
    "\n",
    "bigram_norm_est = Pipeline([\n",
    "      ('Vec',CountVectorizer(min_df=7,max_df=0.2)),\n",
    "    #('Vec',HashingVectorizer(norm=None,ngram_range=(1,2))),\n",
    "     ('tfidf',TfidfTransformer()),\n",
    "    ('SGD',SGDRegressor(alpha=0.005,penalty='l2'))\n",
    "])\n",
    "\n",
    "bigram_norm_est.fit(text_train,stars_train)"
   ]
  },
  {
   "cell_type": "code",
   "execution_count": 218,
   "metadata": {},
   "outputs": [
    {
     "data": {
      "text/plain": [
       "1.2613425724977998"
      ]
     },
     "execution_count": 218,
     "metadata": {},
     "output_type": "execute_result"
    }
   ],
   "source": [
    "pred=bigram_norm_est.predict(text_test)\n",
    "metrics.mean_squared_error(stars_test,pred)"
   ]
  },
  {
   "cell_type": "code",
   "execution_count": 219,
   "metadata": {},
   "outputs": [
    {
     "data": {
      "text/plain": [
       "0.3676612491117829"
      ]
     },
     "execution_count": 219,
     "metadata": {},
     "output_type": "execute_result"
    }
   ],
   "source": [
    "metrics.r2_score(stars_test,pred)"
   ]
  },
  {
   "cell_type": "code",
   "execution_count": null,
   "metadata": {},
   "outputs": [],
   "source": []
  },
  {
   "cell_type": "code",
   "execution_count": 125,
   "metadata": {},
   "outputs": [
    {
     "name": "stdout",
     "output_type": "stream",
     "text": [
      "1.1879255485072175\n",
      "0.4079054679069566\n"
     ]
    }
   ],
   "source": [
    "#Check the train error\n",
    "\n",
    "preddd=bigram_norm_est.predict(text_train)\n",
    "print(metrics.mean_squared_error(stars_train,preddd))\n",
    "print(metrics.r2_score(stars_train,preddd))"
   ]
  },
  {
   "cell_type": "code",
   "execution_count": null,
   "metadata": {},
   "outputs": [],
   "source": []
  },
  {
   "cell_type": "code",
   "execution_count": null,
   "metadata": {},
   "outputs": [],
   "source": []
  },
  {
   "cell_type": "code",
   "execution_count": null,
   "metadata": {},
   "outputs": [],
   "source": []
  },
  {
   "cell_type": "code",
   "execution_count": null,
   "metadata": {},
   "outputs": [],
   "source": []
  }
 ],
 "metadata": {
  "kernelspec": {
   "display_name": "Python 3",
   "language": "python",
   "name": "python3"
  },
  "language_info": {
   "codemirror_mode": {
    "name": "ipython",
    "version": 3
   },
   "file_extension": ".py",
   "mimetype": "text/x-python",
   "name": "python",
   "nbconvert_exporter": "python",
   "pygments_lexer": "ipython3",
   "version": "3.7.4"
  },
  "nbclean": true
 },
 "nbformat": 4,
 "nbformat_minor": 1
}
