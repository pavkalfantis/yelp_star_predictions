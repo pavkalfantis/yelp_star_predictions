{
 "cells": [
  {
   "cell_type": "markdown",
   "metadata": {},
   "source": [
    "# Predicting restaurant ratings from Yelp reviews with NLP and Linear Regression\n"
   ]
  },
  {
   "cell_type": "markdown",
   "metadata": {},
   "source": [
    "As part of the Machine Learning course for the Master of Science project in Data Science and Machine Learning at the National Technical University of Athens, we are using the Yelp Academic Dataset to make predictions of user's ratings on restaurants, based on the text of their review. \n",
    "\n",
    "The basic analysis steps that we carried out for this project are outlined on this notebook. "
   ]
  },
  {
   "cell_type": "code",
   "execution_count": 1,
   "metadata": {},
   "outputs": [],
   "source": [
    "#Load libraries\n",
    "\n",
    "from sklearn.feature_extraction.text import CountVectorizer,HashingVectorizer,TfidfTransformer\n",
    "from sklearn.model_selection import train_test_split\n",
    "from sklearn.model_selection import ParameterGrid, GridSearchCV\n",
    "from sklearn.pipeline import Pipeline\n",
    "from sklearn.linear_model import RidgeCV, Ridge, SGDRegressor\n",
    "from sklearn.svm import SVR\n",
    "from sklearn.ensemble import RandomForestRegressor\n",
    "from sklearn import metrics\n",
    "from sklearn import base\n",
    "import numpy as np\n",
    "import pandas as pd\n",
    "import matplotlib.pyplot as plt\n",
    "#import dill"
   ]
  },
  {
   "cell_type": "markdown",
   "metadata": {},
   "source": [
    "## Load and parse the data\n"
   ]
  },
  {
   "cell_type": "code",
   "execution_count": 2,
   "metadata": {},
   "outputs": [],
   "source": [
    "#Open the business.csv file with information on businesses found on Yelp\n",
    "\n",
    "business=pd.read_csv('dataset/business.csv',low_memory=False)"
   ]
  },
  {
   "cell_type": "code",
   "execution_count": 3,
   "metadata": {},
   "outputs": [
    {
     "data": {
      "text/plain": [
       "(74587, 60)"
      ]
     },
     "execution_count": 3,
     "metadata": {},
     "output_type": "execute_result"
    }
   ],
   "source": [
    "#Keep only restaurants\n",
    "\n",
    "restaurants=business[(business.categories.str.contains('Restaurants'))  | (business.categories.str.contains('Food'))]\n",
    "restaurants.shape"
   ]
  },
  {
   "cell_type": "code",
   "execution_count": 6,
   "metadata": {},
   "outputs": [],
   "source": [
    "#Since we need only text, stars and mapping to business, preprocess the chunks for memory efficiency\n",
    "def review_preprocess(chunk):\n",
    "    chunk=chunk[['stars','text','business_id']]\n",
    "    return chunk"
   ]
  },
  {
   "cell_type": "code",
   "execution_count": 8,
   "metadata": {},
   "outputs": [
    {
     "data": {
      "text/html": [
       "<div>\n",
       "<style scoped>\n",
       "    .dataframe tbody tr th:only-of-type {\n",
       "        vertical-align: middle;\n",
       "    }\n",
       "\n",
       "    .dataframe tbody tr th {\n",
       "        vertical-align: top;\n",
       "    }\n",
       "\n",
       "    .dataframe thead th {\n",
       "        text-align: right;\n",
       "    }\n",
       "</style>\n",
       "<table border=\"1\" class=\"dataframe\">\n",
       "  <thead>\n",
       "    <tr style=\"text-align: right;\">\n",
       "      <th></th>\n",
       "      <th>stars</th>\n",
       "      <th>text</th>\n",
       "      <th>business_id</th>\n",
       "    </tr>\n",
       "  </thead>\n",
       "  <tbody>\n",
       "    <tr>\n",
       "      <th>0</th>\n",
       "      <td>1.0</td>\n",
       "      <td>Total bill for this horrible service? Over $8G...</td>\n",
       "      <td>ujmEBvifdJM6h6RLv4wQIg</td>\n",
       "    </tr>\n",
       "    <tr>\n",
       "      <th>1</th>\n",
       "      <td>5.0</td>\n",
       "      <td>I *adore* Travis at the Hard Rock's new Kelly ...</td>\n",
       "      <td>NZnhc2sEQy3RmzKTZnqtwQ</td>\n",
       "    </tr>\n",
       "    <tr>\n",
       "      <th>2</th>\n",
       "      <td>5.0</td>\n",
       "      <td>I have to say that this office really has it t...</td>\n",
       "      <td>WTqjgwHlXbSFevF32_DJVw</td>\n",
       "    </tr>\n",
       "    <tr>\n",
       "      <th>3</th>\n",
       "      <td>5.0</td>\n",
       "      <td>Went in for a lunch. Steak sandwich was delici...</td>\n",
       "      <td>ikCg8xy5JIg_NGPx-MSIDA</td>\n",
       "    </tr>\n",
       "    <tr>\n",
       "      <th>4</th>\n",
       "      <td>1.0</td>\n",
       "      <td>Today was my second out of three sessions I ha...</td>\n",
       "      <td>b1b1eb3uo-w561D0ZfCEiQ</td>\n",
       "    </tr>\n",
       "    <tr>\n",
       "      <th>...</th>\n",
       "      <td>...</td>\n",
       "      <td>...</td>\n",
       "      <td>...</td>\n",
       "    </tr>\n",
       "    <tr>\n",
       "      <th>6685895</th>\n",
       "      <td>5.0</td>\n",
       "      <td>I have been coming here for years and this pla...</td>\n",
       "      <td>RXBFk3tVBxiTf3uOt9KExQ</td>\n",
       "    </tr>\n",
       "    <tr>\n",
       "      <th>6685896</th>\n",
       "      <td>1.0</td>\n",
       "      <td>I think this owner and the owner of Amy's Baki...</td>\n",
       "      <td>yA6dKNm_zl1ucZCnwW8ZCg</td>\n",
       "    </tr>\n",
       "    <tr>\n",
       "      <th>6685897</th>\n",
       "      <td>5.0</td>\n",
       "      <td>Off the grid Mexican in Vegas. Very tasty, qua...</td>\n",
       "      <td>a192hdM0_UVCYLwPJv1Qwg</td>\n",
       "    </tr>\n",
       "    <tr>\n",
       "      <th>6685898</th>\n",
       "      <td>5.0</td>\n",
       "      <td>We hired Taco Naco to cater our family party a...</td>\n",
       "      <td>kOo4ZY2UQAX4j312mzQ8mA</td>\n",
       "    </tr>\n",
       "    <tr>\n",
       "      <th>6685899</th>\n",
       "      <td>3.0</td>\n",
       "      <td>Having just come back from Hawaii a few months...</td>\n",
       "      <td>PkqN5st3zZ_Xce_5QlBtNQ</td>\n",
       "    </tr>\n",
       "  </tbody>\n",
       "</table>\n",
       "<p>6685900 rows × 3 columns</p>\n",
       "</div>"
      ],
      "text/plain": [
       "         stars                                               text  \\\n",
       "0          1.0  Total bill for this horrible service? Over $8G...   \n",
       "1          5.0  I *adore* Travis at the Hard Rock's new Kelly ...   \n",
       "2          5.0  I have to say that this office really has it t...   \n",
       "3          5.0  Went in for a lunch. Steak sandwich was delici...   \n",
       "4          1.0  Today was my second out of three sessions I ha...   \n",
       "...        ...                                                ...   \n",
       "6685895    5.0  I have been coming here for years and this pla...   \n",
       "6685896    1.0  I think this owner and the owner of Amy's Baki...   \n",
       "6685897    5.0  Off the grid Mexican in Vegas. Very tasty, qua...   \n",
       "6685898    5.0  We hired Taco Naco to cater our family party a...   \n",
       "6685899    3.0  Having just come back from Hawaii a few months...   \n",
       "\n",
       "                    business_id  \n",
       "0        ujmEBvifdJM6h6RLv4wQIg  \n",
       "1        NZnhc2sEQy3RmzKTZnqtwQ  \n",
       "2        WTqjgwHlXbSFevF32_DJVw  \n",
       "3        ikCg8xy5JIg_NGPx-MSIDA  \n",
       "4        b1b1eb3uo-w561D0ZfCEiQ  \n",
       "...                         ...  \n",
       "6685895  RXBFk3tVBxiTf3uOt9KExQ  \n",
       "6685896  yA6dKNm_zl1ucZCnwW8ZCg  \n",
       "6685897  a192hdM0_UVCYLwPJv1Qwg  \n",
       "6685898  kOo4ZY2UQAX4j312mzQ8mA  \n",
       "6685899  PkqN5st3zZ_Xce_5QlBtNQ  \n",
       "\n",
       "[6685900 rows x 3 columns]"
      ]
     },
     "execution_count": 8,
     "metadata": {},
     "output_type": "execute_result"
    }
   ],
   "source": [
    "chunk_list = []  # append each chunk df here \n",
    "\n",
    "# Each chunk is in df format\n",
    "for chunk in pd.read_csv('dataset/review.csv', chunksize=100000):  \n",
    "    # perform data filtering \n",
    "    chunk_filter = review_preprocess(chunk)\n",
    "    # Once the data filtering is done, append the chunk to list\n",
    "    chunk_list.append(chunk_filter)\n",
    "    \n",
    "# concat the list into dataframe \n",
    "reviews = pd.concat(chunk_list)\n",
    "reviews"
   ]
  },
  {
   "cell_type": "code",
   "execution_count": 9,
   "metadata": {},
   "outputs": [],
   "source": [
    "rest_reviews = pd.merge(how='left',left=restaurants[['business_id','name']], right=reviews, left_on='business_id', right_on='business_id')\n"
   ]
  },
  {
   "cell_type": "code",
   "execution_count": 10,
   "metadata": {},
   "outputs": [],
   "source": [
    "rest_reviews.dropna(inplace=True)"
   ]
  },
  {
   "cell_type": "code",
   "execution_count": 11,
   "metadata": {},
   "outputs": [
    {
     "data": {
      "text/html": [
       "<div>\n",
       "<style scoped>\n",
       "    .dataframe tbody tr th:only-of-type {\n",
       "        vertical-align: middle;\n",
       "    }\n",
       "\n",
       "    .dataframe tbody tr th {\n",
       "        vertical-align: top;\n",
       "    }\n",
       "\n",
       "    .dataframe thead th {\n",
       "        text-align: right;\n",
       "    }\n",
       "</style>\n",
       "<table border=\"1\" class=\"dataframe\">\n",
       "  <thead>\n",
       "    <tr style=\"text-align: right;\">\n",
       "      <th></th>\n",
       "      <th>business_id</th>\n",
       "      <th>name</th>\n",
       "      <th>stars</th>\n",
       "      <th>text</th>\n",
       "    </tr>\n",
       "  </thead>\n",
       "  <tbody>\n",
       "    <tr>\n",
       "      <th>0</th>\n",
       "      <td>QXAEGFB4oINsVuTFxEYKFQ</td>\n",
       "      <td>Emerald Chinese Restaurant</td>\n",
       "      <td>3.0</td>\n",
       "      <td>My girlfriend and I went for dinner at Emerald...</td>\n",
       "    </tr>\n",
       "    <tr>\n",
       "      <th>1</th>\n",
       "      <td>QXAEGFB4oINsVuTFxEYKFQ</td>\n",
       "      <td>Emerald Chinese Restaurant</td>\n",
       "      <td>3.0</td>\n",
       "      <td>We've always been there on a Sunday so we were...</td>\n",
       "    </tr>\n",
       "    <tr>\n",
       "      <th>2</th>\n",
       "      <td>QXAEGFB4oINsVuTFxEYKFQ</td>\n",
       "      <td>Emerald Chinese Restaurant</td>\n",
       "      <td>3.0</td>\n",
       "      <td>***No automatic doors, not baby friendly!*** I...</td>\n",
       "    </tr>\n",
       "    <tr>\n",
       "      <th>3</th>\n",
       "      <td>QXAEGFB4oINsVuTFxEYKFQ</td>\n",
       "      <td>Emerald Chinese Restaurant</td>\n",
       "      <td>1.0</td>\n",
       "      <td>Horrible service,\\r\\nI went there tonight with...</td>\n",
       "    </tr>\n",
       "    <tr>\n",
       "      <th>4</th>\n",
       "      <td>QXAEGFB4oINsVuTFxEYKFQ</td>\n",
       "      <td>Emerald Chinese Restaurant</td>\n",
       "      <td>4.0</td>\n",
       "      <td>One of the gauges of a good Chinese restaurant...</td>\n",
       "    </tr>\n",
       "    <tr>\n",
       "      <th>...</th>\n",
       "      <td>...</td>\n",
       "      <td>...</td>\n",
       "      <td>...</td>\n",
       "      <td>...</td>\n",
       "    </tr>\n",
       "    <tr>\n",
       "      <th>4580296</th>\n",
       "      <td>p1eUTUB_5hf1enoKYBV3DA</td>\n",
       "      <td>Ken Stewart's Tre Belle</td>\n",
       "      <td>5.0</td>\n",
       "      <td>When I write a review on someplace that I have...</td>\n",
       "    </tr>\n",
       "    <tr>\n",
       "      <th>4580297</th>\n",
       "      <td>p1eUTUB_5hf1enoKYBV3DA</td>\n",
       "      <td>Ken Stewart's Tre Belle</td>\n",
       "      <td>5.0</td>\n",
       "      <td>We stopped in at Tre Belle on a Tuesday evenin...</td>\n",
       "    </tr>\n",
       "    <tr>\n",
       "      <th>4580298</th>\n",
       "      <td>p1eUTUB_5hf1enoKYBV3DA</td>\n",
       "      <td>Ken Stewart's Tre Belle</td>\n",
       "      <td>3.0</td>\n",
       "      <td>I wasnt impressed. The place is beautiful and ...</td>\n",
       "    </tr>\n",
       "    <tr>\n",
       "      <th>4580299</th>\n",
       "      <td>p1eUTUB_5hf1enoKYBV3DA</td>\n",
       "      <td>Ken Stewart's Tre Belle</td>\n",
       "      <td>1.0</td>\n",
       "      <td>Last night some friends and I dined at this es...</td>\n",
       "    </tr>\n",
       "    <tr>\n",
       "      <th>4580300</th>\n",
       "      <td>p1eUTUB_5hf1enoKYBV3DA</td>\n",
       "      <td>Ken Stewart's Tre Belle</td>\n",
       "      <td>2.0</td>\n",
       "      <td>First let me list the positives.  The restaura...</td>\n",
       "    </tr>\n",
       "  </tbody>\n",
       "</table>\n",
       "<p>4580299 rows × 4 columns</p>\n",
       "</div>"
      ],
      "text/plain": [
       "                    business_id                        name  stars  \\\n",
       "0        QXAEGFB4oINsVuTFxEYKFQ  Emerald Chinese Restaurant    3.0   \n",
       "1        QXAEGFB4oINsVuTFxEYKFQ  Emerald Chinese Restaurant    3.0   \n",
       "2        QXAEGFB4oINsVuTFxEYKFQ  Emerald Chinese Restaurant    3.0   \n",
       "3        QXAEGFB4oINsVuTFxEYKFQ  Emerald Chinese Restaurant    1.0   \n",
       "4        QXAEGFB4oINsVuTFxEYKFQ  Emerald Chinese Restaurant    4.0   \n",
       "...                         ...                         ...    ...   \n",
       "4580296  p1eUTUB_5hf1enoKYBV3DA     Ken Stewart's Tre Belle    5.0   \n",
       "4580297  p1eUTUB_5hf1enoKYBV3DA     Ken Stewart's Tre Belle    5.0   \n",
       "4580298  p1eUTUB_5hf1enoKYBV3DA     Ken Stewart's Tre Belle    3.0   \n",
       "4580299  p1eUTUB_5hf1enoKYBV3DA     Ken Stewart's Tre Belle    1.0   \n",
       "4580300  p1eUTUB_5hf1enoKYBV3DA     Ken Stewart's Tre Belle    2.0   \n",
       "\n",
       "                                                      text  \n",
       "0        My girlfriend and I went for dinner at Emerald...  \n",
       "1        We've always been there on a Sunday so we were...  \n",
       "2        ***No automatic doors, not baby friendly!*** I...  \n",
       "3        Horrible service,\\r\\nI went there tonight with...  \n",
       "4        One of the gauges of a good Chinese restaurant...  \n",
       "...                                                    ...  \n",
       "4580296  When I write a review on someplace that I have...  \n",
       "4580297  We stopped in at Tre Belle on a Tuesday evenin...  \n",
       "4580298  I wasnt impressed. The place is beautiful and ...  \n",
       "4580299  Last night some friends and I dined at this es...  \n",
       "4580300  First let me list the positives.  The restaura...  \n",
       "\n",
       "[4580299 rows x 4 columns]"
      ]
     },
     "execution_count": 11,
     "metadata": {},
     "output_type": "execute_result"
    }
   ],
   "source": [
    "rest_reviews"
   ]
  },
  {
   "cell_type": "markdown",
   "metadata": {},
   "source": [
    "The dataset has more than 4.5 million reviews on restaurants with their corresponding rating. We will use this dataset to build the model of the analysis"
   ]
  },
  {
   "cell_type": "code",
   "execution_count": 12,
   "metadata": {},
   "outputs": [
    {
     "data": {
      "text/plain": [
       "<BarContainer object of 5 artists>"
      ]
     },
     "execution_count": 12,
     "metadata": {},
     "output_type": "execute_result"
    },
    {
     "data": {
      "image/png": "[encoded data removed]",
      "text/plain": [
       "<Figure size 640x480 with 1 Axes>"
      ]
     },
     "metadata": {
      "needs_background": "light"
     },
     "output_type": "display_data"
    }
   ],
   "source": [
    "(unique, counts) = np.unique(rest_reviews.stars, return_counts=True)\n",
    "plt.figure(figsize=(8, 6), dpi=80)\n",
    "plt.ylabel('Number of Reviews')\n",
    "plt.xlabel('Stars')\n",
    "\n",
    "plt.bar(unique, counts,color='grey')"
   ]
  },
  {
   "cell_type": "code",
   "execution_count": 12,
   "metadata": {},
   "outputs": [
    {
     "data": {
      "text/html": [
       "<div>\n",
       "<style scoped>\n",
       "    .dataframe tbody tr th:only-of-type {\n",
       "        vertical-align: middle;\n",
       "    }\n",
       "\n",
       "    .dataframe tbody tr th {\n",
       "        vertical-align: top;\n",
       "    }\n",
       "\n",
       "    .dataframe thead th {\n",
       "        text-align: right;\n",
       "    }\n",
       "</style>\n",
       "<table border=\"1\" class=\"dataframe\">\n",
       "  <thead>\n",
       "    <tr style=\"text-align: right;\">\n",
       "      <th></th>\n",
       "      <th>business_id</th>\n",
       "      <th>name</th>\n",
       "      <th>text</th>\n",
       "    </tr>\n",
       "    <tr>\n",
       "      <th>stars</th>\n",
       "      <th></th>\n",
       "      <th></th>\n",
       "      <th></th>\n",
       "    </tr>\n",
       "  </thead>\n",
       "  <tbody>\n",
       "    <tr>\n",
       "      <th>1.0</th>\n",
       "      <td>544139</td>\n",
       "      <td>544139</td>\n",
       "      <td>544139</td>\n",
       "    </tr>\n",
       "    <tr>\n",
       "      <th>2.0</th>\n",
       "      <td>420637</td>\n",
       "      <td>420637</td>\n",
       "      <td>420637</td>\n",
       "    </tr>\n",
       "    <tr>\n",
       "      <th>3.0</th>\n",
       "      <td>604359</td>\n",
       "      <td>604359</td>\n",
       "      <td>604359</td>\n",
       "    </tr>\n",
       "    <tr>\n",
       "      <th>4.0</th>\n",
       "      <td>1191087</td>\n",
       "      <td>1191087</td>\n",
       "      <td>1191087</td>\n",
       "    </tr>\n",
       "    <tr>\n",
       "      <th>5.0</th>\n",
       "      <td>1820077</td>\n",
       "      <td>1820077</td>\n",
       "      <td>1820077</td>\n",
       "    </tr>\n",
       "  </tbody>\n",
       "</table>\n",
       "</div>"
      ],
      "text/plain": [
       "       business_id     name     text\n",
       "stars                               \n",
       "1.0         544139   544139   544139\n",
       "2.0         420637   420637   420637\n",
       "3.0         604359   604359   604359\n",
       "4.0        1191087  1191087  1191087\n",
       "5.0        1820077  1820077  1820077"
      ]
     },
     "execution_count": 12,
     "metadata": {},
     "output_type": "execute_result"
    }
   ],
   "source": [
    "rest_reviews.groupby(['stars']).count()"
   ]
  },
  {
   "cell_type": "code",
   "execution_count": 13,
   "metadata": {},
   "outputs": [],
   "source": [
    "#Keep a smaller and balanced dataset\n",
    "\n",
    "#50000 reviews for each star\n",
    "\n",
    "chunk_list = []\n",
    "\n",
    "for i in range(5):\n",
    "    chunk_list.append(rest_reviews[rest_reviews.stars==i+1].sample(50000))\n",
    "    \n",
    "small_dataset = pd.concat(chunk_list)\n",
    "\n"
   ]
  },
  {
   "cell_type": "code",
   "execution_count": 14,
   "metadata": {},
   "outputs": [
    {
     "data": {
      "text/html": [
       "<div>\n",
       "<style scoped>\n",
       "    .dataframe tbody tr th:only-of-type {\n",
       "        vertical-align: middle;\n",
       "    }\n",
       "\n",
       "    .dataframe tbody tr th {\n",
       "        vertical-align: top;\n",
       "    }\n",
       "\n",
       "    .dataframe thead th {\n",
       "        text-align: right;\n",
       "    }\n",
       "</style>\n",
       "<table border=\"1\" class=\"dataframe\">\n",
       "  <thead>\n",
       "    <tr style=\"text-align: right;\">\n",
       "      <th></th>\n",
       "      <th>business_id</th>\n",
       "      <th>name</th>\n",
       "      <th>stars</th>\n",
       "      <th>text</th>\n",
       "    </tr>\n",
       "  </thead>\n",
       "  <tbody>\n",
       "    <tr>\n",
       "      <th>3812119</th>\n",
       "      <td>3nDxqHvf7L5AdEAAeMaQAg</td>\n",
       "      <td>Domino's Pizza</td>\n",
       "      <td>1.0</td>\n",
       "      <td>As college students looking for a late night m...</td>\n",
       "    </tr>\n",
       "    <tr>\n",
       "      <th>3217020</th>\n",
       "      <td>jsqIJomT833L-BAtm06Cuw</td>\n",
       "      <td>Rosatis Pizza</td>\n",
       "      <td>1.0</td>\n",
       "      <td>My first review ever...\\r\\nMy first pizza was ...</td>\n",
       "    </tr>\n",
       "    <tr>\n",
       "      <th>4246114</th>\n",
       "      <td>d9sv7fexFJiChG9Xl0SP-A</td>\n",
       "      <td>Hot Sauce Williams Barbecue Restaurant</td>\n",
       "      <td>1.0</td>\n",
       "      <td>I wish there was a no star button. After buyin...</td>\n",
       "    </tr>\n",
       "    <tr>\n",
       "      <th>2089941</th>\n",
       "      <td>Xk5HlcuuCWv5cQKmI7CjkQ</td>\n",
       "      <td>Goldmans Deli</td>\n",
       "      <td>1.0</td>\n",
       "      <td>After being a loyal customer for many years, I...</td>\n",
       "    </tr>\n",
       "    <tr>\n",
       "      <th>668941</th>\n",
       "      <td>SIyWuK96ql4m7cFh9ScPMg</td>\n",
       "      <td>Jack in The Box</td>\n",
       "      <td>1.0</td>\n",
       "      <td>This is really a zero star post. When we pulle...</td>\n",
       "    </tr>\n",
       "    <tr>\n",
       "      <th>...</th>\n",
       "      <td>...</td>\n",
       "      <td>...</td>\n",
       "      <td>...</td>\n",
       "      <td>...</td>\n",
       "    </tr>\n",
       "    <tr>\n",
       "      <th>4551861</th>\n",
       "      <td>Z1mLBp6BMlHSQUh364vk1g</td>\n",
       "      <td>Blue Point Grille</td>\n",
       "      <td>5.0</td>\n",
       "      <td>I'm a big fan of happy hour at BP. There are $...</td>\n",
       "    </tr>\n",
       "    <tr>\n",
       "      <th>931736</th>\n",
       "      <td>pxpLVCInGwLClbnwJwxInw</td>\n",
       "      <td>King Tut Cafe &amp; Catering</td>\n",
       "      <td>5.0</td>\n",
       "      <td>Great place to chill. Different style. I use t...</td>\n",
       "    </tr>\n",
       "    <tr>\n",
       "      <th>2528949</th>\n",
       "      <td>rkqTVzTkLaWSUybaWUMIdA</td>\n",
       "      <td>Red Robin Gourmet Burgers</td>\n",
       "      <td>5.0</td>\n",
       "      <td>Got here shortly after it opened everyone was ...</td>\n",
       "    </tr>\n",
       "    <tr>\n",
       "      <th>1496418</th>\n",
       "      <td>3N9U549Zse8UP-MwKZAjAQ</td>\n",
       "      <td>Liberty Market</td>\n",
       "      <td>5.0</td>\n",
       "      <td>Liberty Market is my favorite place to get bru...</td>\n",
       "    </tr>\n",
       "    <tr>\n",
       "      <th>2908315</th>\n",
       "      <td>MAXMZMUEprc7rUMeoXrarw</td>\n",
       "      <td>Daily Press</td>\n",
       "      <td>5.0</td>\n",
       "      <td>Came in on a Sunday a woman was working. She w...</td>\n",
       "    </tr>\n",
       "  </tbody>\n",
       "</table>\n",
       "<p>250000 rows × 4 columns</p>\n",
       "</div>"
      ],
      "text/plain": [
       "                    business_id                                    name  \\\n",
       "3812119  3nDxqHvf7L5AdEAAeMaQAg                          Domino's Pizza   \n",
       "3217020  jsqIJomT833L-BAtm06Cuw                           Rosatis Pizza   \n",
       "4246114  d9sv7fexFJiChG9Xl0SP-A  Hot Sauce Williams Barbecue Restaurant   \n",
       "2089941  Xk5HlcuuCWv5cQKmI7CjkQ                           Goldmans Deli   \n",
       "668941   SIyWuK96ql4m7cFh9ScPMg                         Jack in The Box   \n",
       "...                         ...                                     ...   \n",
       "4551861  Z1mLBp6BMlHSQUh364vk1g                       Blue Point Grille   \n",
       "931736   pxpLVCInGwLClbnwJwxInw                King Tut Cafe & Catering   \n",
       "2528949  rkqTVzTkLaWSUybaWUMIdA               Red Robin Gourmet Burgers   \n",
       "1496418  3N9U549Zse8UP-MwKZAjAQ                          Liberty Market   \n",
       "2908315  MAXMZMUEprc7rUMeoXrarw                             Daily Press   \n",
       "\n",
       "         stars                                               text  \n",
       "3812119    1.0  As college students looking for a late night m...  \n",
       "3217020    1.0  My first review ever...\\r\\nMy first pizza was ...  \n",
       "4246114    1.0  I wish there was a no star button. After buyin...  \n",
       "2089941    1.0  After being a loyal customer for many years, I...  \n",
       "668941     1.0  This is really a zero star post. When we pulle...  \n",
       "...        ...                                                ...  \n",
       "4551861    5.0  I'm a big fan of happy hour at BP. There are $...  \n",
       "931736     5.0  Great place to chill. Different style. I use t...  \n",
       "2528949    5.0  Got here shortly after it opened everyone was ...  \n",
       "1496418    5.0  Liberty Market is my favorite place to get bru...  \n",
       "2908315    5.0  Came in on a Sunday a woman was working. She w...  \n",
       "\n",
       "[250000 rows x 4 columns]"
      ]
     },
     "execution_count": 14,
     "metadata": {},
     "output_type": "execute_result"
    }
   ],
   "source": [
    "small_dataset"
   ]
  },
  {
   "cell_type": "code",
   "execution_count": 21,
   "metadata": {},
   "outputs": [],
   "source": [
    "#Do not use \n",
    "\n",
    "stars = rest_reviews.stars\n",
    "text = rest_reviews.text\n"
   ]
  },
  {
   "cell_type": "code",
   "execution_count": 15,
   "metadata": {},
   "outputs": [],
   "source": [
    "#Use subset\n",
    "\n",
    "stars = small_dataset.stars\n",
    "text = small_dataset.text"
   ]
  },
  {
   "cell_type": "code",
   "execution_count": 16,
   "metadata": {},
   "outputs": [],
   "source": [
    "text_train, text_test, stars_train, stars_test = train_test_split(text, stars, test_size=0.2)"
   ]
  },
  {
   "cell_type": "code",
   "execution_count": 19,
   "metadata": {},
   "outputs": [
    {
     "data": {
      "text/plain": [
       "<BarContainer object of 5 artists>"
      ]
     },
     "execution_count": 19,
     "metadata": {},
     "output_type": "execute_result"
    },
    {
     "data": {
      "image/png": "[encoded data removed]",
      "text/plain": [
       "<Figure size 432x288 with 1 Axes>"
      ]
     },
     "metadata": {
      "needs_background": "light"
     },
     "output_type": "display_data"
    }
   ],
   "source": [
    "(unique, counts) = np.unique(stars_train, return_counts=True)\n",
    "plt.bar(unique, counts)"
   ]
  },
  {
   "cell_type": "code",
   "execution_count": 20,
   "metadata": {},
   "outputs": [
    {
     "data": {
      "text/plain": [
       "<BarContainer object of 5 artists>"
      ]
     },
     "execution_count": 20,
     "metadata": {},
     "output_type": "execute_result"
    },
    {
     "data": {
      "image/png": "[encoded data removed]",
      "text/plain": [
       "<Figure size 432x288 with 1 Axes>"
      ]
     },
     "metadata": {
      "needs_background": "light"
     },
     "output_type": "display_data"
    }
   ],
   "source": [
    "(unique, counts) = np.unique(stars_test, return_counts=True)\n",
    "plt.bar(unique, counts)"
   ]
  },
  {
   "cell_type": "markdown",
   "metadata": {},
   "source": [
    "## Building models - Linear Regression with Stochastic Gradient Descent\n"
   ]
  },
  {
   "cell_type": "markdown",
   "metadata": {
    "heading_collapsed": true
   },
   "source": [
    "## bag_of_words_model"
   ]
  },
  {
   "cell_type": "markdown",
   "metadata": {
    "hidden": true
   },
   "source": [
    "First model is predicting the star rating based on the count of the words in each document. In order to use this method, we are using scikit-learn's [`CountVectorizer`](http://scikit-learn.org/stable/modules/generated/sklearn.feature_extraction.text.CountVectorizer.html#sklearn.feature_extraction.text.CountVectorizer) or [`HashingVectorizer`](http://scikit-learn.org/stable/modules/generated/sklearn.feature_extraction.text.HashingVectorizer.html#sklearn.feature_extraction.text.HashingVectorizer) (which saves time and memory allocation). After the text is tranformed to an X array of frequencies, we use cross validation to pick the optimal hyperparameters of the regressor. Regressors that are used are Linear, SVM and Random Forest\n"
   ]
  },
  {
   "cell_type": "code",
   "execution_count": 28,
   "metadata": {
    "hidden": true
   },
   "outputs": [],
   "source": [
    "#not used\n",
    "X = HashingVectorizer().fit_transform(text)\n",
    "#X = CountVectorizer().fit_transform(text)"
   ]
  },
  {
   "cell_type": "code",
   "execution_count": 30,
   "metadata": {
    "hidden": true
   },
   "outputs": [
    {
     "data": {
      "text/plain": [
       "Pipeline(steps=[('Vec', CountVectorizer(max_df=0.6, min_df=10)),\n",
       "                ('SGD', SGDRegressor())])"
      ]
     },
     "execution_count": 30,
     "metadata": {},
     "output_type": "execute_result"
    }
   ],
   "source": [
    "#Grid Search for the Vectorizer\n",
    "\n",
    "param_grid_bow = {\n",
    "    'Vec__min_df':[5,10,15],\n",
    "    'Vec__max_df':[0.4,0.5,0.6]\n",
    "}\n",
    "\n",
    "bow_est = Pipeline([\n",
    "    ('Vec',CountVectorizer()),\n",
    "    ('SGD',SGDRegressor())\n",
    "])\n",
    "\n",
    "gs_bow=GridSearchCV(\n",
    "    bow_est,param_grid_bow,\n",
    "    cv=5, \n",
    "    scoring='neg_mean_squared_error'\n",
    ")\n",
    "\n",
    "\n",
    "gs_bow.fit(text, stars) \n",
    "\n",
    "gs_bow.best_estimator_\n"
   ]
  },
  {
   "cell_type": "code",
   "execution_count": 32,
   "metadata": {},
   "outputs": [
    {
     "data": {
      "text/plain": [
       "Pipeline(steps=[('SGD', SGDRegressor(alpha=0.01))])"
      ]
     },
     "execution_count": 32,
     "metadata": {},
     "output_type": "execute_result"
    }
   ],
   "source": [
    "#Grid Search for  Regression (using stochastic gradient descent)\n",
    "\n",
    "#Use count vectorizer values from previous step\n",
    "\n",
    "X = CountVectorizer(min_df=10,max_df=0.6).fit_transform(text)\n",
    "\n",
    "param_grid_bow = {\n",
    "    #,\n",
    "    'SGD__penalty':['l1','l2'],\n",
    "    'SGD__alpha': [0.005,0.01,0.05]\n",
    "}\n",
    "\n",
    "bow_est = Pipeline([\n",
    "    ('SGD',SGDRegressor())\n",
    "])\n",
    "\n",
    "\n",
    "\n",
    "gs_bow=GridSearchCV(\n",
    "    bow_est,param_grid_bow,\n",
    "    cv=5, \n",
    "    scoring='neg_mean_squared_error'\n",
    ")\n",
    "\n",
    "\n",
    "gs_bow.fit(X, stars) \n",
    "\n",
    "gs_bow.best_estimator_\n"
   ]
  },
  {
   "cell_type": "code",
   "execution_count": 33,
   "metadata": {},
   "outputs": [
    {
     "data": {
      "text/plain": [
       "{'SGD__alpha': 0.01, 'SGD__penalty': 'l2'}"
      ]
     },
     "execution_count": 33,
     "metadata": {},
     "output_type": "execute_result"
    }
   ],
   "source": [
    "list(ParameterGrid(param_grid_bow))[gs_bow.best_index_]"
   ]
  },
  {
   "cell_type": "code",
   "execution_count": 35,
   "metadata": {
    "hidden": true
   },
   "outputs": [
    {
     "data": {
      "text/plain": [
       "Pipeline(steps=[('Vec', CountVectorizer(max_df=0.6, min_df=10)),\n",
       "                ('SGD', SGDRegressor(alpha=0.01))])"
      ]
     },
     "execution_count": 35,
     "metadata": {},
     "output_type": "execute_result"
    }
   ],
   "source": [
    "#Use final values for model\n",
    "\n",
    "bag_of_words_est = Pipeline([\n",
    "    ('Vec',CountVectorizer(min_df=10,max_df=0.6)),\n",
    "    ('SGD',SGDRegressor(alpha=0.01,penalty='l2'))\n",
    "])\n",
    "\n",
    "bag_of_words_est.fit(text_train,stars_train)"
   ]
  },
  {
   "cell_type": "code",
   "execution_count": 36,
   "metadata": {
    "hidden": true
   },
   "outputs": [],
   "source": [
    "pred=bag_of_words_est.predict(text_test)"
   ]
  },
  {
   "cell_type": "code",
   "execution_count": 42,
   "metadata": {},
   "outputs": [],
   "source": [
    "pred_stars = np.round(pred)"
   ]
  },
  {
   "cell_type": "code",
   "execution_count": 43,
   "metadata": {
    "hidden": true
   },
   "outputs": [
    {
     "data": {
      "text/plain": [
       "0.932363013245037"
      ]
     },
     "execution_count": 43,
     "metadata": {},
     "output_type": "execute_result"
    }
   ],
   "source": [
    "metrics.mean_squared_error(stars_test,pred)"
   ]
  },
  {
   "cell_type": "code",
   "execution_count": 55,
   "metadata": {},
   "outputs": [
    {
     "data": {
      "text/plain": [
       "1.03028"
      ]
     },
     "execution_count": 55,
     "metadata": {},
     "output_type": "execute_result"
    }
   ],
   "source": [
    "metrics.mean_squared_error(stars_test,pred_stars)"
   ]
  },
  {
   "cell_type": "code",
   "execution_count": 44,
   "metadata": {
    "hidden": true
   },
   "outputs": [
    {
     "data": {
      "text/plain": [
       "0.5349387611653098"
      ]
     },
     "execution_count": 44,
     "metadata": {},
     "output_type": "execute_result"
    }
   ],
   "source": [
    "metrics.r2_score(stars_test,pred)"
   ]
  },
  {
   "cell_type": "code",
   "execution_count": 46,
   "metadata": {},
   "outputs": [
    {
     "data": {
      "text/plain": [
       "0.36798"
      ]
     },
     "execution_count": 46,
     "metadata": {},
     "output_type": "execute_result"
    }
   ],
   "source": [
    "metrics.accuracy_score(stars_test,pred_stars)"
   ]
  },
  {
   "cell_type": "markdown",
   "metadata": {
    "heading_collapsed": true
   },
   "source": [
    "## normalized_model with TF-IDF"
   ]
  },
  {
   "cell_type": "markdown",
   "metadata": {
    "hidden": true
   },
   "source": [
    "Normalization is key for good linear regression. Previously, we used the count as the normalization scheme.  Now we add a normalization with TF-IDF.\n",
    "\n",
    "[TF-IDF](https://en.wikipedia.org/wiki/Tf%E2%80%93idf) is a common normalization scheme used in text processing.  We Use the [`TfidfTransformer`](http://scikit-learn.org/stable/modules/generated/sklearn.feature_extraction.text.TfidfTransformer.html#sklearn.feature_extraction.text.TfidfTransformer). There are options for using `idf` and taking the logarithm of `tf`.  "
   ]
  },
  {
   "cell_type": "code",
   "execution_count": 49,
   "metadata": {
    "hidden": true
   },
   "outputs": [
    {
     "data": {
      "text/plain": [
       "Pipeline(steps=[('SGD', SGDRegressor(alpha=0.002))])"
      ]
     },
     "execution_count": 49,
     "metadata": {},
     "output_type": "execute_result"
    }
   ],
   "source": [
    "#Grid Search without the Vectorizer - using tf-idf\n",
    "\n",
    "V = CountVectorizer(min_df=10,max_df=0.6).fit_transform(text)\n",
    "X = TfidfTransformer().fit_transform(V)\n",
    "\n",
    "param_grid_norm ={\n",
    "    'SGD__alpha': [0.002,0.01,0.015,0.05],\n",
    "    'SGD__penalty':['l1','l2']\n",
    "}\n",
    "\n",
    "norm_est = Pipeline([\n",
    "    ('SGD',SGDRegressor())\n",
    "])\n",
    "\n",
    "gs_norm=GridSearchCV(\n",
    "    norm_est,param_grid_norm,\n",
    "    cv=5, \n",
    "    scoring='neg_mean_squared_error'\n",
    ")\n",
    "\n",
    "\n",
    "gs_norm.fit(X, stars) #X or text depending if we are grid searching on the vectorizer\n",
    "\n",
    "gs_norm.best_estimator_\n"
   ]
  },
  {
   "cell_type": "code",
   "execution_count": 50,
   "metadata": {},
   "outputs": [
    {
     "data": {
      "text/plain": [
       "{'SGD__alpha': 0.002, 'SGD__penalty': 'l2'}"
      ]
     },
     "execution_count": 50,
     "metadata": {},
     "output_type": "execute_result"
    }
   ],
   "source": [
    "list(ParameterGrid(param_grid_norm))[gs_norm.best_index_]"
   ]
  },
  {
   "cell_type": "code",
   "execution_count": 52,
   "metadata": {
    "hidden": true
   },
   "outputs": [
    {
     "data": {
      "text/plain": [
       "Pipeline(steps=[('Vec', CountVectorizer(max_df=0.6, min_df=10)),\n",
       "                ('tfidf', TfidfTransformer()),\n",
       "                ('SGD', SGDRegressor(alpha=0.002))])"
      ]
     },
     "execution_count": 52,
     "metadata": {},
     "output_type": "execute_result"
    }
   ],
   "source": [
    "#Use final values \n",
    "\n",
    "unigram_norm_est = Pipeline([\n",
    "    ('Vec',CountVectorizer(min_df=10,max_df=0.6)),\n",
    "    ('tfidf',TfidfTransformer()),\n",
    "    ('SGD',SGDRegressor(alpha=0.002,penalty='l2'))\n",
    "])\n",
    "\n",
    "unigram_norm_est.fit(text_train,stars_train)"
   ]
  },
  {
   "cell_type": "code",
   "execution_count": 53,
   "metadata": {
    "hidden": true
   },
   "outputs": [
    {
     "data": {
      "text/plain": [
       "0.9461971873272936"
      ]
     },
     "execution_count": 53,
     "metadata": {},
     "output_type": "execute_result"
    }
   ],
   "source": [
    "pred=unigram_norm_est.predict(text_test)\n",
    "metrics.mean_squared_error(stars_test,pred)"
   ]
  },
  {
   "cell_type": "code",
   "execution_count": 54,
   "metadata": {
    "hidden": true
   },
   "outputs": [
    {
     "data": {
      "text/plain": [
       "0.5280382963832966"
      ]
     },
     "execution_count": 54,
     "metadata": {},
     "output_type": "execute_result"
    }
   ],
   "source": [
    "metrics.r2_score(stars_test,pred)"
   ]
  },
  {
   "cell_type": "markdown",
   "metadata": {
    "heading_collapsed": true
   },
   "source": [
    "## bigram_model"
   ]
  },
  {
   "cell_type": "markdown",
   "metadata": {
    "hidden": true
   },
   "source": [
    "In a bigram model, we'll consider both single words and pairs of consecutive words that appear.  This is going to be a much higher dimensional problem (large $p$) so we should be careful about overfitting. To avoid memory issues we are using the HashingVectorizer instead of the CountVectorizer\n"
   ]
  },
  {
   "cell_type": "code",
   "execution_count": 63,
   "metadata": {},
   "outputs": [
    {
     "data": {
      "text/plain": [
       "Pipeline(steps=[('Vec',\n",
       "                 CountVectorizer(max_df=0.6, min_df=10, ngram_range=(1, 2))),\n",
       "                ('SGD', SGDRegressor())])"
      ]
     },
     "execution_count": 63,
     "metadata": {},
     "output_type": "execute_result"
    }
   ],
   "source": [
    "#Grid Search for the Vectorizer\n",
    "\n",
    "param_grid_bi = {\n",
    "    'Vec__min_df':[6,8,10],\n",
    "    'Vec__max_df':[0.5, 0.6]\n",
    "}\n",
    "\n",
    "bi_est = Pipeline([\n",
    "    ('Vec',CountVectorizer(ngram_range=(1,2))),\n",
    "    ('SGD',SGDRegressor())\n",
    "])\n",
    "\n",
    "gs_bi=GridSearchCV(\n",
    "    bi_est,param_grid_bi,\n",
    "    cv=3, \n",
    "    scoring='neg_mean_squared_error'\n",
    ")\n",
    "\n",
    "\n",
    "gs_bi.fit(text, stars) \n",
    "\n",
    "gs_bi.best_estimator_\n"
   ]
  },
  {
   "cell_type": "code",
   "execution_count": 57,
   "metadata": {
    "hidden": true
   },
   "outputs": [
    {
     "data": {
      "text/plain": [
       "Pipeline(steps=[('SGD', SGDRegressor(alpha=0.005))])"
      ]
     },
     "execution_count": 57,
     "metadata": {},
     "output_type": "execute_result"
    }
   ],
   "source": [
    "#Grid Search for SGD\n",
    "\n",
    "#X = HashingVectorizer(ngram_range=(1,2)).fit_transform(text)\n",
    "\n",
    "X = CountVectorizer(ngram_range=(1,2),min_df=10,max_df=0.6).fit_transform(text)\n",
    "\n",
    "param_grid_bi = {\n",
    "    'SGD__alpha': [0.001,0.005,0.01,0.05],\n",
    "    'SGD__penalty':['l1','l2']\n",
    "}\n",
    "\n",
    "bi_est = Pipeline([\n",
    "    ('SGD',SGDRegressor())\n",
    "])\n",
    "\n",
    "gs_bi=GridSearchCV(\n",
    "    bi_est,param_grid_bi,\n",
    "    cv=5, \n",
    "    scoring='neg_mean_squared_error'\n",
    ")\n",
    "\n",
    "\n",
    "gs_bi.fit(X, stars) #X or text depending if we are grid searching on the vectorizer\n",
    "\n",
    "gs_bi.best_estimator_"
   ]
  },
  {
   "cell_type": "code",
   "execution_count": 58,
   "metadata": {},
   "outputs": [
    {
     "data": {
      "text/plain": [
       "{'SGD__alpha': 0.005, 'SGD__penalty': 'l2'}"
      ]
     },
     "execution_count": 58,
     "metadata": {},
     "output_type": "execute_result"
    }
   ],
   "source": [
    "list(ParameterGrid(param_grid_bi))[gs_bi.best_index_]"
   ]
  },
  {
   "cell_type": "code",
   "execution_count": 67,
   "metadata": {},
   "outputs": [
    {
     "data": {
      "text/plain": [
       "Pipeline(steps=[('Vec',\n",
       "                 CountVectorizer(max_df=0.6, min_df=10, ngram_range=(1, 2))),\n",
       "                ('SGD', SGDRegressor(alpha=0.005))])"
      ]
     },
     "execution_count": 67,
     "metadata": {},
     "output_type": "execute_result"
    }
   ],
   "source": [
    "#Use final values \n",
    "\n",
    "\n",
    "bigram_est = Pipeline([\n",
    "    ('Vec',CountVectorizer(ngram_range=(1,2),min_df=10,max_df=0.6)),\n",
    "    #('Vec',HashingVectorizer(norm=None,ngram_range=(1,2))),\n",
    "    ('SGD',SGDRegressor(alpha=0.005, penalty='l2'))\n",
    "])\n",
    "\n",
    "bigram_est.fit(text_train,stars_train)"
   ]
  },
  {
   "cell_type": "code",
   "execution_count": 68,
   "metadata": {},
   "outputs": [
    {
     "data": {
      "text/plain": [
       "0.8132429756084537"
      ]
     },
     "execution_count": 68,
     "metadata": {},
     "output_type": "execute_result"
    }
   ],
   "source": [
    "pred=bigram_est.predict(text_test)\n",
    "metrics.mean_squared_error(stars_test,pred)"
   ]
  },
  {
   "cell_type": "code",
   "execution_count": 69,
   "metadata": {
    "scrolled": true
   },
   "outputs": [
    {
     "data": {
      "text/plain": [
       "0.5943556529620944"
      ]
     },
     "execution_count": 69,
     "metadata": {},
     "output_type": "execute_result"
    }
   ],
   "source": [
    "metrics.r2_score(stars_test,pred)"
   ]
  },
  {
   "cell_type": "markdown",
   "metadata": {},
   "source": [
    "## Bigram model with TFIDF"
   ]
  },
  {
   "cell_type": "code",
   "execution_count": 86,
   "metadata": {},
   "outputs": [
    {
     "data": {
      "text/plain": [
       "Pipeline(steps=[('Vec',\n",
       "                 CountVectorizer(max_df=0.6, min_df=10, ngram_range=(1, 2))),\n",
       "                ('tran', TfidfTransformer()), ('SGD', SGDRegressor())])"
      ]
     },
     "execution_count": 86,
     "metadata": {},
     "output_type": "execute_result"
    }
   ],
   "source": [
    "#Grid Search for the Vectorizer\n",
    "\n",
    "param_grid_bi_norm = {\n",
    "    'Vec__min_df':[6,8,10],\n",
    "    'Vec__max_df':[0.5, 0.6]\n",
    "}\n",
    "\n",
    "bi_norm_est = Pipeline([\n",
    "    ('Vec',CountVectorizer(ngram_range=(1,2))),\n",
    "    ('tran',TfidfTransformer()),\n",
    "    ('SGD',SGDRegressor())\n",
    "])\n",
    "\n",
    "gs_bi_norm=GridSearchCV(\n",
    "    bi_norm_est,param_grid_bi_norm,\n",
    "    cv=3, \n",
    "    scoring='neg_mean_squared_error'\n",
    ")\n",
    "\n",
    "\n",
    "gs_bi_norm.fit(text, stars) \n",
    "\n",
    "gs_bi_norm.best_estimator_"
   ]
  },
  {
   "cell_type": "code",
   "execution_count": 84,
   "metadata": {},
   "outputs": [
    {
     "data": {
      "text/plain": [
       "Pipeline(steps=[('SGD', SGDRegressor(alpha=0.0005))])"
      ]
     },
     "execution_count": 84,
     "metadata": {},
     "output_type": "execute_result"
    }
   ],
   "source": [
    "#Grid Search for SGD\n",
    "V = CountVectorizer(ngram_range=(1,2),min_df=10,max_df=0.6).fit_transform(text)\n",
    "#V = HashingVectorizer(norm=None,ngram_range=(1,2)).fit_transform(text)\n",
    "X = TfidfTransformer().fit_transform(V)\n",
    "\n",
    "param_grid_bi_norm = {\n",
    "    'SGD__alpha': [0.0003,0.0005],\n",
    "}\n",
    "\n",
    "bi_norm_est = Pipeline([\n",
    "    ('SGD',SGDRegressor())\n",
    "])\n",
    "\n",
    "gs_bi_norm=GridSearchCV(\n",
    "    bi_norm_est,param_grid_bi_norm,\n",
    "    cv=5, \n",
    "    scoring='neg_mean_squared_error'\n",
    ")\n",
    "\n",
    "\n",
    "gs_bi_norm.fit(X, stars) #X or stars depending if we are grid searching on the vectorizer\n",
    "\n",
    "gs_bi_norm.best_estimator_"
   ]
  },
  {
   "cell_type": "code",
   "execution_count": 90,
   "metadata": {},
   "outputs": [
    {
     "data": {
      "text/plain": [
       "Pipeline(steps=[('Vec',\n",
       "                 CountVectorizer(max_df=0.6, min_df=10, ngram_range=(1, 2))),\n",
       "                ('tfidf', TfidfTransformer()),\n",
       "                ('SGD', SGDRegressor(alpha=0.0003))])"
      ]
     },
     "execution_count": 90,
     "metadata": {},
     "output_type": "execute_result"
    }
   ],
   "source": [
    "#Use final values \n",
    "\n",
    "\n",
    "bigram_norm_est = Pipeline([\n",
    "      ('Vec',CountVectorizer(ngram_range=(1,2),min_df=10,max_df=0.6)),\n",
    "    #('Vec',HashingVectorizer(norm=None,ngram_range=(1,2))),\n",
    "     ('tfidf',TfidfTransformer()),\n",
    "    ('SGD',SGDRegressor(alpha=0.0003,penalty='l2'))\n",
    "])\n",
    "\n",
    "bigram_norm_est.fit(text_train,stars_train)"
   ]
  },
  {
   "cell_type": "code",
   "execution_count": 91,
   "metadata": {},
   "outputs": [
    {
     "data": {
      "text/plain": [
       "0.7561160298520776"
      ]
     },
     "execution_count": 91,
     "metadata": {},
     "output_type": "execute_result"
    }
   ],
   "source": [
    "pred=bigram_norm_est.predict(text_test)\n",
    "metrics.mean_squared_error(stars_test,pred)"
   ]
  },
  {
   "cell_type": "code",
   "execution_count": 92,
   "metadata": {},
   "outputs": [
    {
     "data": {
      "text/plain": [
       "0.622850485754566"
      ]
     },
     "execution_count": 92,
     "metadata": {},
     "output_type": "execute_result"
    }
   ],
   "source": [
    "metrics.r2_score(stars_test,pred)"
   ]
  },
  {
   "cell_type": "code",
   "execution_count": null,
   "metadata": {},
   "outputs": [],
   "source": []
  },
  {
   "cell_type": "code",
   "execution_count": null,
   "metadata": {},
   "outputs": [],
   "source": []
  }
 ],
 "metadata": {
  "kernelspec": {
   "display_name": "Python 3",
   "language": "python",
   "name": "python3"
  },
  "language_info": {
   "codemirror_mode": {
    "name": "ipython",
    "version": 3
   },
   "file_extension": ".py",
   "mimetype": "text/x-python",
   "name": "python",
   "nbconvert_exporter": "python",
   "pygments_lexer": "ipython3",
   "version": "3.7.4"
  },
  "nbclean": true
 },
 "nbformat": 4,
 "nbformat_minor": 1
}
